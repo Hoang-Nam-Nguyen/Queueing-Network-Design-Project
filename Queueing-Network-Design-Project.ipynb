{
 "cells": [
  {
   "cell_type": "code",
   "execution_count": 1,
   "id": "77e6bd28",
   "metadata": {},
   "outputs": [],
   "source": [
    "# In this file.ipynb, we will the following tasks:\n",
    "\n",
    "# (1): Set up all necessary input parameters for the network design of the most general QS G/G/K with variable capacity\n",
    "# (2): Define the fractional integer nonlinear programming, including the objective function, \n",
    "    # decision variables and constraints\n",
    "# (3): Following the pseudo-code with 5 steps, to reformulate the original fractional integer nonlinear programming\n",
    "    # equivalently as an MILP problem\n",
    "# (4): solve the MILP problem by Gurobi solver\n",
    "    \n",
    "# Remark: This file.py works after the prediction step is done. Otherwise, we will assign randomly deterministic values\n",
    "    # for the input parameters to run the program"
   ]
  },
  {
   "cell_type": "markdown",
   "id": "5c8e645d",
   "metadata": {},
   "source": [
    "# Import all the useful python libraries here, which will be used later"
   ]
  },
  {
   "cell_type": "code",
   "execution_count": 2,
   "id": "cc01b45f",
   "metadata": {},
   "outputs": [],
   "source": [
    "# %reset -f"
   ]
  },
  {
   "cell_type": "code",
   "execution_count": 3,
   "id": "f130f5ae",
   "metadata": {},
   "outputs": [],
   "source": [
    "import numpy as np # import the well-known package numpy for computation in Python\n",
    "import matplotlib.pyplot as plt # import the well-known package matplotlib for visualization in Python\n",
    "import math # import the well-known package math for some math calculations, i.e., factorial\n",
    "import itertools  # this package is to list all subsets  of a given set in Python\n",
    "import pandas as pd\n",
    "import os\n",
    "from itertools import product"
   ]
  },
  {
   "cell_type": "markdown",
   "id": "c08578ca",
   "metadata": {},
   "source": [
    "# Import Data - Remark Here: Update the directory when change to Linux"
   ]
  },
  {
   "cell_type": "code",
   "execution_count": 4,
   "id": "8cb19a1f",
   "metadata": {},
   "outputs": [],
   "source": [
    "os.chdir('C:\\\\Users\\\\33663\\\\Queuing project data')\n",
    "data_folder = 'C:\\\\Users\\\\33663\\\\Queuing project data' # use for my window computer\n",
    "# data_folder = 'home/wenbo/nguyen' # use for linux computer\n",
    "#data_folder = os.getcwd() # use for linux computer"
   ]
  },
  {
   "cell_type": "code",
   "execution_count": 5,
   "id": "b5da978b",
   "metadata": {},
   "outputs": [
    {
     "name": "stdout",
     "output_type": "stream",
     "text": [
      "Random rows have been selected and written to Customer150Test.csv\n"
     ]
    }
   ],
   "source": [
    "import csv\n",
    "import random\n",
    "\n",
    "# Specify the input and output file paths\n",
    "input_file = 'OverdoseUpdated.csv'\n",
    "output_file = 'Customer150Test.csv'\n",
    "\n",
    "# Number of rows to select randomly\n",
    "num_rows_to_select = 100\n",
    "\n",
    "# Open the input CSV file and read its contents\n",
    "with open(input_file, 'r', newline='') as csv_in:\n",
    "    reader = csv.reader(csv_in)\n",
    "    header = next(reader)  # Read the header\n",
    "    rows = list(reader)    # Read the remaining rows into a list\n",
    "\n",
    "# Randomly select num_rows_to_select rows\n",
    "selected_rows = random.sample(rows, num_rows_to_select)\n",
    "\n",
    "# Write the selected rows to the output CSV file\n",
    "with open(output_file, 'w', newline='') as csv_out:\n",
    "    writer = csv.writer(csv_out)\n",
    "    writer.writerow(header)  # Write the header\n",
    "    writer.writerows(selected_rows)\n",
    "\n",
    "print(\"Random rows have been selected and written to\", output_file)"
   ]
  },
  {
   "cell_type": "code",
   "execution_count": 6,
   "id": "bcc01695",
   "metadata": {},
   "outputs": [
    {
     "name": "stdout",
     "output_type": "stream",
     "text": [
      "Random rows have been selected and written to Facility20Test.csv\n"
     ]
    }
   ],
   "source": [
    "input_file = 'BaseStations.csv'\n",
    "output_file = 'Facility20Test.csv'\n",
    "\n",
    "# Number of rows to select randomly\n",
    "num_rows_to_select = 5\n",
    "\n",
    "# Open the input CSV file and read its contents\n",
    "with open(input_file, 'r', newline='') as csv_in:\n",
    "    reader = csv.reader(csv_in)\n",
    "    header = next(reader)  # Read the header\n",
    "    rows = list(reader)    # Read the remaining rows into a list\n",
    "\n",
    "# Randomly select num_rows_to_select rows\n",
    "selected_rows = random.sample(rows, num_rows_to_select)\n",
    "\n",
    "# Write the selected rows to the output CSV file\n",
    "with open(output_file, 'w', newline='') as csv_out:\n",
    "    writer = csv.writer(csv_out)\n",
    "    writer.writerow(header)  # Write the header\n",
    "    writer.writerows(selected_rows)\n",
    "\n",
    "print(\"Random rows have been selected and written to\", output_file)"
   ]
  },
  {
   "cell_type": "markdown",
   "id": "226e4efc",
   "metadata": {},
   "source": [
    "# Load Data"
   ]
  },
  {
   "cell_type": "code",
   "execution_count": 7,
   "id": "104c3250",
   "metadata": {},
   "outputs": [],
   "source": [
    "facility=pd.read_csv(data_folder + '/Facility20Test.csv')\n",
    "customer_loc=pd.read_csv(data_folder + '/Customer150Test.csv')\n",
    "overdose=pd.read_csv(data_folder + '/Overdose.csv')"
   ]
  },
  {
   "cell_type": "code",
   "execution_count": 8,
   "id": "9048e879",
   "metadata": {},
   "outputs": [],
   "source": [
    "facility.columns = [col.lower() for col in facility.columns]\n",
    "customer_loc.columns = [col.lower() for col in customer_loc.columns]\n",
    "overdose_base = pd.merge(left = customer_loc.assign(key = 1), right = facility.assign(key = 1), on = 'key', suffixes = ('_demand','_base')).drop('key', axis = 1)"
   ]
  },
  {
   "cell_type": "code",
   "execution_count": 9,
   "id": "42541509",
   "metadata": {},
   "outputs": [],
   "source": [
    "n=len(facility)\n",
    "# n = |J| is the number of candidate locations for facility. The value of n is determined from prediction step. \n",
    "# For now, we temporarily assign a deterministic value for n to test the code."
   ]
  },
  {
   "cell_type": "code",
   "execution_count": 10,
   "id": "ad708954",
   "metadata": {},
   "outputs": [],
   "source": [
    "m=len(customer_loc)\n",
    "# m = |I| is the number of customer or demand points. The value of m is also determined from prediction step.\n",
    "# For now, we temporarily assign a deterministic value for m to test the code."
   ]
  },
  {
   "cell_type": "code",
   "execution_count": 11,
   "id": "2be7ee99",
   "metadata": {},
   "outputs": [],
   "source": [
    "# Define I set of customer locations\n",
    "I=[] \n",
    "for i in range(m):\n",
    "    I.append(i)"
   ]
  },
  {
   "cell_type": "code",
   "execution_count": 12,
   "id": "25431aff",
   "metadata": {},
   "outputs": [],
   "source": [
    "# Define  J set of candidate facility locations\n",
    "J=[]\n",
    "for j in range(n):\n",
    "    J.append(j)"
   ]
  },
  {
   "cell_type": "code",
   "execution_count": 13,
   "id": "40052bab",
   "metadata": {},
   "outputs": [],
   "source": [
    "# customer['receivedtime'] = pd.to_datetime(customer['receivedtime'])\n",
    "# customer['demand_year'] = customer['receivedtime'].dt.year\n",
    "# customer['demand_month'] = customer['receivedtime'].dt.month\n",
    "# customer['mon_yr'] = customer['receivedtime'].dt.strftime('%Y-%m')\n",
    "# customer['qrt_yr'] = customer['receivedtime'].dt.year.astype(str) + '-' + customer['receivedtime'].dt.quarter.astype(str)\n",
    "# customer['location'] = customer.apply(lambda x: (x['latitude'], x['longitude']), axis = 1)\n",
    "# customer = customer.sort_values(by = 'receivedtime')\n",
    "# occ = customer.location.value_counts().rename_axis('location').reset_index(name = 'occurence') # calculate number of demands for each demand location\n",
    "# customer_loc = pd.merge(left = customer, right = occ, how = 'left', on = 'location')\n",
    "# customer_loc = customer_loc.sort_values(by ='receivedtime').drop_duplicates(subset = 'location', keep = 'first').reset_index(drop = True) # keep only one record for each location because what we need is the occurence\n",
    "# customer_loc.drop('location', inplace=True, axis=1) \n",
    "takeoff_land_time = 10 / 3600 # in hour\n",
    "v_drone = 27.8 * 3600 # drone flight speed in m/hour\n",
    "train_max_flight_time = 25 / 2 / 60 - takeoff_land_time # in hour \n",
    "radius = v_drone * train_max_flight_time # flight radius\n",
    "non_travel_service = 1500 / 3600 # in hour"
   ]
  },
  {
   "cell_type": "code",
   "execution_count": 14,
   "id": "afbd5d50",
   "metadata": {},
   "outputs": [],
   "source": [
    "def cal_dist(row):\n",
    "    R = 6378 * 1000\n",
    "    delta_lat = (row['latitude_base'] - row['latitude_demand']) * np.pi / 180\n",
    "    delta_log = (row['longitude_base'] - row['longitude_demand']) * np.pi / 180\n",
    "    a = np.sin(delta_lat / 2) ** 2 + np.cos(row['latitude_demand'] * np.pi / 180) * np.cos(row['latitude_base'] * np.pi / 180) * np.sin(delta_log / 2) ** 2\n",
    "    d = 2 * R * np.arctan2(np.sqrt(a), np.sqrt(1 - a))\n",
    "    return d"
   ]
  },
  {
   "cell_type": "code",
   "execution_count": 15,
   "id": "ad68e1cc",
   "metadata": {},
   "outputs": [],
   "source": [
    "overdose_base['distance'] = overdose_base.apply(lambda x: cal_dist(x), axis = 1)\n",
    "overdose_base['is_within_r'] = overdose_base.distance.apply(lambda x: 0 if x > radius else 1)\n",
    "overdose_base['i_j_ind'] = overdose_base.apply(lambda x: (x['id_ohca'], x['id_bases']), axis = 1)\n",
    "distanceinfo = pd.Series(overdose_base['distance'].values, index = overdose_base['i_j_ind']).to_dict()\n",
    "check = pd.Series(overdose_base['is_within_r'].values, index = overdose_base['i_j_ind']).to_dict()\n",
    "overdose_base.groupby('id_ohca')['is_within_r'].max().mean()\n",
    "demands = list(customer_loc.id_ohca.values)\n",
    "drone_bases = list(facility.id_bases.values)\n",
    "demand_base = list(product(demands, drone_bases))\n",
    "demand_base_reduce = [(demands.index(each[0]),drone_bases.index(each[1])) for each in demand_base if check[each[0], each[1]] == 1]\n",
    "demand_base_reducetest = [each for each in list(product(demands, drone_bases)) if check[each[0], each[1]] == 1]\n",
    "listIj=[]\n",
    "for j in J:\n",
    "    listIj.append([])\n",
    "listJi=[]\n",
    "for i in I:\n",
    "    listJi.append([])\n",
    "for each in demand_base:\n",
    "    if check[each[0], each[1]] == 1:\n",
    "        listIj[drone_bases.index(each[1])].append(demands.index(each[0]))\n",
    "        listJi[demands.index(each[0])].append(drone_bases.index(each[1]))"
   ]
  },
  {
   "cell_type": "markdown",
   "id": "4128e350",
   "metadata": {},
   "source": [
    "# distance between a facility location (base) and a customer location (demand) "
   ]
  },
  {
   "cell_type": "code",
   "execution_count": 16,
   "id": "71b8317e",
   "metadata": {},
   "outputs": [],
   "source": [
    "def dist(facility,customer_loc,i,j):\n",
    "    R = 6378 * 1000\n",
    "    delta_lat = (facility['latitude'][j] - customer_loc['latitude'][i]) * np.pi / 180\n",
    "    delta_log = (facility['longitude'][j] - customer_loc['longitude'][i]) * np.pi / 180\n",
    "    a = np.sin(delta_lat / 2) ** 2 + np.cos(customer_loc['latitude'][i] * np.pi / 180) * np.cos(facility['latitude'][j] * np.pi / 180) * np.sin(delta_log / 2) ** 2\n",
    "    d = 2 * R * np.arctan2(np.sqrt(a), np.sqrt(1 - a))\n",
    "    return d"
   ]
  },
  {
   "cell_type": "markdown",
   "id": "b4b3cf49",
   "metadata": {},
   "source": [
    "# Period of Time"
   ]
  },
  {
   "cell_type": "code",
   "execution_count": 17,
   "id": "99211c4c",
   "metadata": {},
   "outputs": [],
   "source": [
    "overdose['ReceivedTime'] = pd.to_datetime(overdose['ReceivedTime'])"
   ]
  },
  {
   "cell_type": "code",
   "execution_count": 18,
   "id": "6153bebd",
   "metadata": {},
   "outputs": [],
   "source": [
    "data_hrs = (overdose.ReceivedTime.max() - overdose.ReceivedTime.min()).days * 24 # calculate hours covering the entire training data"
   ]
  },
  {
   "cell_type": "markdown",
   "id": "a84164f8",
   "metadata": {},
   "source": [
    "# Input parameters for ND^{G/G/K-var} from prediction step"
   ]
  },
  {
   "cell_type": "code",
   "execution_count": 19,
   "id": "03318899",
   "metadata": {},
   "outputs": [],
   "source": [
    "# In this part, we will set up all the necessary input parameters for the network design model. The parameters are:\n",
    "\n",
    "# the number of candidate facility locations   \n",
    "# the number of customer locations       \n",
    "# the maximum capacity at each facility location        \n",
    "# the maximum number of locations, which can be set up facility                 \n",
    "# the total number of facilities (i.e. the total capacity)\n",
    "# average time needed for mobile servers to move on scences from j to i (in drone paper, this is the ratio of geographical\n",
    "   # distance between i,j and the speed of drones at j)\n",
    "# square coefficient of variation of inter-arrival times of demands from i to j, which depends on expected value and \n",
    "   # second moment of the random inter-arrival times\n",
    "# expected value of random service time needed for servers at j to support customers at i\n",
    "# second moment of random service time needed for servers at j to support customers at i"
   ]
  },
  {
   "cell_type": "code",
   "execution_count": 20,
   "id": "bdf97473",
   "metadata": {},
   "outputs": [],
   "source": [
    "BarW = 2\n",
    "# BarW is the maximum allowed capacity of every facility location. The value of BarW is determined directly here."
   ]
  },
  {
   "cell_type": "code",
   "execution_count": 21,
   "id": "9ba4ff20",
   "metadata": {},
   "outputs": [],
   "source": [
    "BarL = 4\n",
    "# BarL is the limit on the number of facility locations that can be set up. The value of BarL is determined directly here. "
   ]
  },
  {
   "cell_type": "code",
   "execution_count": 22,
   "id": "f75f5ab8",
   "metadata": {},
   "outputs": [],
   "source": [
    "BarT = 6\n",
    "# BarT is the total number of facilities (i.e. drones). The value of BarT is determined directly here."
   ]
  },
  {
   "cell_type": "markdown",
   "id": "91432d5a",
   "metadata": {},
   "source": [
    "$$\\mbox{arrival rates} \\ \\ \\lambda_{i} \\ \\ \\mbox{defined here}$$"
   ]
  },
  {
   "cell_type": "code",
   "execution_count": 23,
   "id": "cd5096a1",
   "metadata": {},
   "outputs": [],
   "source": [
    "lamda=np.zeros(shape=(m)) # creating a column vector with m elements\n",
    "for i in I:\n",
    "    lamda[i] = int(customer_loc['occurence'][i]) / data_hrs * 10 ** 2 * 4"
   ]
  },
  {
   "cell_type": "markdown",
   "id": "3c428b51",
   "metadata": {},
   "source": [
    "$$\\mbox{travel times} \\ \\ t_{ij} \\ \\ \\mbox{defined here} = \\frac{\\mbox{distance}(i,j)}{\\mbox{drone_speed}}$$"
   ]
  },
  {
   "cell_type": "code",
   "execution_count": 24,
   "id": "9c2f9748",
   "metadata": {},
   "outputs": [],
   "source": [
    "t=np.zeros(shape=(m,n)) # creating a matrix, size m x n\n",
    "for i in I:\n",
    "    for j in J:\n",
    "        t[i,j]=dist(facility,customer_loc,i,j) / v_drone\n",
    "# t_{ij} is the time needed for mobile servers to move from location j to location i to support customers.\n",
    "# For now, we temporarily assign a deterministic value for t to test the code."
   ]
  },
  {
   "cell_type": "markdown",
   "id": "94aa9c20",
   "metadata": {},
   "source": [
    "$$\\mathbb{E}[T_{ij}] = \\frac{1}{\\mbox{lamda}[i]}$$"
   ]
  },
  {
   "cell_type": "code",
   "execution_count": 25,
   "id": "5d549f09",
   "metadata": {},
   "outputs": [],
   "source": [
    "MeanInterArrivalTime=np.zeros(shape=(m)) # creating a column vector with m elements\n",
    "for i in I:\n",
    "    MeanInterArrivalTime[i] = 1 / lamda[i]"
   ]
  },
  {
   "cell_type": "markdown",
   "id": "a27461eb",
   "metadata": {},
   "source": [
    "$$\\mathbb{E}[T^2_{ij}] = \\mathbb{E}[T_{ij}]^2 + \\mbox{a small random quantity}$$"
   ]
  },
  {
   "cell_type": "code",
   "execution_count": 26,
   "id": "6cc3b443",
   "metadata": {},
   "outputs": [],
   "source": [
    "SecondInterArrivalTime=np.zeros(shape=(m)) # creating a column vector with m elements\n",
    "for i in I:\n",
    "    SecondInterArrivalTime[i] = 2 * MeanInterArrivalTime[i] ** 2 + 0.2"
   ]
  },
  {
   "cell_type": "markdown",
   "id": "39a4dfc7",
   "metadata": {},
   "source": [
    "$$c_{T_{ij}} = \\frac{\\sqrt{\\mathbb{E}[T^2_{ij}]-\\mathbb{E}[T_{ij}]^2}}{\\mathbb{E}[T_{ij}]}$$"
   ]
  },
  {
   "cell_type": "markdown",
   "id": "cb87a440",
   "metadata": {},
   "source": [
    "$$\\mbox{Here  c2T} \\ \\ = c^2_{T_{ij}}, \\ \\ \\mbox{see Section Preliminaries on Queuing Metric}$$"
   ]
  },
  {
   "cell_type": "code",
   "execution_count": 27,
   "id": "158623f3",
   "metadata": {},
   "outputs": [],
   "source": [
    "c2T = np.zeros(shape=(m,n)) # creating a matrix, size m x n\n",
    "for i in I:\n",
    "    for j in J:\n",
    "        c2T[i,j]=(SecondInterArrivalTime[i] - MeanInterArrivalTime[i]**2) / (MeanInterArrivalTime[i]**2)\n",
    "# c2T[i,j] is the square coefficient of variation of the random inter-arrival time of demands from i to j.\n",
    "# c2T[i,j] = \\sqrt{E[T^2_{ij}]-E[T_{ij}]^2} / E[T_{ij}]\n",
    "# c2T is determined by the expected value of inter-arrival times E[T_{ij}] and the second moment of inter-arrival\n",
    "# time E[T_{ij}^2], which are determined from the prediction step. \n",
    "# Note that c2T = 1 in case of Poisson arrivals, but here is distribution-free inter-arrival times.\n",
    "# For now, we temporarily assign a deterministic value for c2T to test the code."
   ]
  },
  {
   "cell_type": "markdown",
   "id": "9f591bf2",
   "metadata": {},
   "source": [
    "$$\\mbox{Here is the def of mean service times MeanS[i,j]} = \\ \\  \\ \\mathbb{E}[S_{ij}] = \\frac{t_{ij}}{2} + \\mbox{non travel service}$$"
   ]
  },
  {
   "cell_type": "code",
   "execution_count": 28,
   "id": "25356441",
   "metadata": {},
   "outputs": [],
   "source": [
    "MeanS = np.zeros(shape=(m,n)) # creating a matrix, size m x n\n",
    "for i in I:\n",
    "    for j in J:\n",
    "        MeanS[i,j] = t[i,j] * 2 + non_travel_service\n",
    "# MeanS[i,j] is the expected value of service time S_{ij}, needed for servers at location j to support customers\n",
    "# at location i. MeanS is determined from prediction step, but we temporarily assign a deterministic value\n",
    "# for MeanS to test the code for now."
   ]
  },
  {
   "cell_type": "markdown",
   "id": "35f5d8db",
   "metadata": {},
   "source": [
    "$$\\mbox{Here is the def of second moment of service times SecondMS[i,j]} = \\ \\  \\ \\mathbb{E}[S^2_{ij}] = 2 \\mathbb{E}[S_{ij}]^2 + \\mbox{a small random quantity}$$"
   ]
  },
  {
   "cell_type": "code",
   "execution_count": 29,
   "id": "92cd61d5",
   "metadata": {},
   "outputs": [],
   "source": [
    "SecondMS = np.zeros(shape=(m,n)) # creating a matrix, size m x n\n",
    "for i in I:\n",
    "    for j in J:\n",
    "        SecondMS[i,j] = 2 * MeanS[i,j] ** 2 + 0.2\n",
    "# SecondMS[i,j] is the second value of service time S_{ij}, needed for servers at location j to support customers\n",
    "# at location i. SecondMS is determined from prediction step, but we temporarily assign a deterministic value\n",
    "# for SecondMS to test the code for now."
   ]
  },
  {
   "cell_type": "code",
   "execution_count": 30,
   "id": "533b15e1",
   "metadata": {},
   "outputs": [],
   "source": [
    "# Now, all the input parameters of the network design model for G/G/K-var are set up. Now, we determine the generic\n",
    "# formulation for ND^{G,G,K-var} by creating the model, define the decision variables, constraints and objective function\n",
    "# The solver Gurobi will be used"
   ]
  },
  {
   "cell_type": "markdown",
   "id": "b1598b21",
   "metadata": {},
   "source": [
    "# Import the Gurobi solver in Python"
   ]
  },
  {
   "cell_type": "code",
   "execution_count": 31,
   "id": "9be3ec25",
   "metadata": {},
   "outputs": [
    {
     "name": "stdout",
     "output_type": "stream",
     "text": [
      "Set parameter Username\n",
      "Set parameter WLSAccessID\n",
      "Set parameter WLSSecret\n",
      "Set parameter LicenseID to value 2471257\n",
      "Academic license 2471257 - for non-commercial use only - registered to ho___@gwu.edu\n"
     ]
    }
   ],
   "source": [
    "import gurobipy as gp # import Gurobi solver for Python\n",
    "from gurobipy import GRB # import the package GRB for attributes, params and constants in Gurobi solver\n",
    "\n",
    "params = {\n",
    "\"WLSACCESSID\": '76b76ad6-4bc4-4abe-a326-c0aab288b806',\n",
    "\"WLSSECRET\": 'd8a0b6cf-7cda-401d-9be5-62881f316f00',\n",
    "\"LICENSEID\": 2471257,\n",
    "} # import the key license for Gurobi\n",
    "\n",
    "env = gp.Env(params=params) # define the Gurobi environment"
   ]
  },
  {
   "cell_type": "markdown",
   "id": "f412a0e6",
   "metadata": {},
   "source": [
    "# Define the fractional integer nonlinear optimization problem ND^{G/G/K-var}"
   ]
  },
  {
   "cell_type": "code",
   "execution_count": 32,
   "id": "876ee569",
   "metadata": {},
   "outputs": [],
   "source": [
    "model = gp.Model(env=env) # Create the model within the Gurobi environment"
   ]
  },
  {
   "cell_type": "code",
   "execution_count": 33,
   "id": "6f8a49b5",
   "metadata": {},
   "outputs": [],
   "source": [
    "# We now add main decision variables in the model, including location-allocation-capacity"
   ]
  },
  {
   "cell_type": "code",
   "execution_count": 34,
   "id": "7e9e33ea",
   "metadata": {},
   "outputs": [],
   "source": [
    "x=model.addVars(n, vtype=GRB.BINARY,name='x') # define location binary variable x in the model, x_j = 1 if we set up \n",
    "    # facility at location j, x_j=0, otherwise\n",
    "y=model.addVars(m,n, vtype=GRB.BINARY,name='y') # define assignment binary variable y in the model, y_{ij} = 1 if location \n",
    " #  j is assigned to support customers at location i, y_{ij} = 0, otherwise\n",
    "alpha=model.addVars(n, BarW + 1, vtype=GRB.BINARY,name='alpha') # introduce auxiliary binary variable allpha in the model\n",
    "model.update()"
   ]
  },
  {
   "cell_type": "markdown",
   "id": "2ef03d5a",
   "metadata": {},
   "source": [
    "$$\\mbox{Arrival rate} \\ \\ Cumulate\\_Arrival(y,j) \\ \\ \\mbox{defined endogenously by} \\ \\ \\ \\sum_{i \\in I} \\lambda_{i} y_{ij}$$"
   ]
  },
  {
   "cell_type": "code",
   "execution_count": 35,
   "id": "ff75e161",
   "metadata": {},
   "outputs": [],
   "source": [
    "# Definition of \\sum_{i \\in I} \\lamda_{i} y_{ij}\n",
    "def Cumulate_Arrival(y,j): \n",
    "    SD=0\n",
    "    for l in listIj[j]:\n",
    "        SD = SD + lamda[l] * y[l,j]\n",
    "    return SD"
   ]
  },
  {
   "cell_type": "markdown",
   "id": "6df71d2e",
   "metadata": {},
   "source": [
    "$$Cumulate\\_SquareCV(y,j) \\ \\ = \\sum_{i \\in I} \\lambda_{i} y_{ij} c^2_{T_{ij}}$$"
   ]
  },
  {
   "cell_type": "code",
   "execution_count": 36,
   "id": "883da765",
   "metadata": {},
   "outputs": [],
   "source": [
    "# Definition of \\sum_{i \\in I} \\lamda_{i} y_{ij} c^2_{T_{ij}}\n",
    "def Cumulate_SquareCV(y,j):\n",
    "    SD=0\n",
    "    for l in listIj[j]:\n",
    "        SD = SD + lamda[l] * c2T[l,j] * y[l,j] \n",
    "    return SD"
   ]
  },
  {
   "cell_type": "markdown",
   "id": "c782f5b4",
   "metadata": {},
   "source": [
    "$$Cumulate\\_MeanService(y,j) \\ \\ = \\sum_{i \\in I} \\lambda_{i} y_{ij} E[S_{ij}]$$"
   ]
  },
  {
   "cell_type": "code",
   "execution_count": 37,
   "id": "d98bb6e4",
   "metadata": {},
   "outputs": [],
   "source": [
    "# Definition of \\sum_{i \\in I} \\lamda_{i} y_{ij} E[S_{ij}]\n",
    "def Cumulate_MeanService(y,j):\n",
    "    SD=0\n",
    "    for l in listIj[j]:\n",
    "        SD = SD + lamda[l] * MeanS[l,j] * y[l,j] \n",
    "    return SD"
   ]
  },
  {
   "cell_type": "markdown",
   "id": "66ccfab1",
   "metadata": {},
   "source": [
    "$$Cumulate\\_SecondService(y,j) \\ \\ = \\sum_{i \\in I} \\lambda_{i} y_{ij} E[S^2_{ij}]$$"
   ]
  },
  {
   "cell_type": "code",
   "execution_count": 38,
   "id": "e5c1886b",
   "metadata": {},
   "outputs": [],
   "source": [
    "# Definition of \\sum_{i \\in I} \\lamda_{i} y_{ij} E[S^2_{ij}]\n",
    "def Cumulate_SecondService(y,j):\n",
    "    SD=0\n",
    "    for l in listIj[j]:\n",
    "        SD = SD + lamda[l] * SecondMS[l,j] * y[l,j] \n",
    "    return SD"
   ]
  },
  {
   "cell_type": "markdown",
   "id": "b869e6aa",
   "metadata": {},
   "source": [
    "$$fractional\\_objective\\_function(y,w) \\ \\ \\mbox{is the objective function of } \\ \\ \\mathbf{ND}^{G,G,K^{(v)}} \\ \\ $$"
   ]
  },
  {
   "cell_type": "code",
   "execution_count": 39,
   "id": "94cb8f21",
   "metadata": {},
   "outputs": [],
   "source": [
    "def fractional_objective_function(y,w): # we define the fractional objective function of ND^{G/G/K-var}\n",
    "    SD=0\n",
    "    for i in I:\n",
    "        for j in listJi[i]:\n",
    "            if w[j]==0: # Note that at w_j=0, the fractional response time is undefined. So we only take into account w_j>0\n",
    "                SD=SD\n",
    "            else:\n",
    "                term1 = Cumulate_SquareCV(y,j) / Cumulate_Arrival(y,j) + Cumulate_Arrival(y,j) * Cumulate_SecondService(y,j) / (Cumulate_MeanService(y,j)**2) - 1\n",
    "                term2 = 1 / (2 * Cumulate_Arrival(y,j) * math.factorial(int(w[j])-1))\n",
    "                term3 = 1 / ((int(w[j])-Cumulate_MeanService(y,j))**2)\n",
    "                term4 = Cumulate_MeanService(y,j)**(int(w[j])+1)\n",
    "                test1=0\n",
    "                for h in range(int(w[j])):\n",
    "                    test1=test1 + (Cumulate_MeanService(y,j)**h) / math.factorial(h)\n",
    "                term5=test1 + (Cumulate_MeanService(y,j)**int(w[j])) / (math.factorial(int(w[j])-1)*(int(w[j])-Cumulate_MeanService(y,j)))\n",
    "                term6=float(lamda[i]) * y[i,j] / float(sum(lamda))\n",
    "                SD = SD + (t[i,j] + term1 * term2 * term3 * term4 * term5) * term6\n",
    "    return SD"
   ]
  },
  {
   "cell_type": "code",
   "execution_count": 40,
   "id": "dc2b9025",
   "metadata": {},
   "outputs": [],
   "source": [
    "#  So now, our fractional integer nonlinear optimization problem is ready.\n",
    "#  The problem is to minimize fractional_objective_function with respect to location variable x, assignment variable y\n",
    "#  and capacity variable w, subject to a chance constraint and (x,y,w) belongs to \\mathcal{F}_{K-var}. We will add \n",
    "#  these two constraints into the model later. Now, we move to 5 Steps of the Algorithm \"Linearization of the Fractional\n",
    "#  Objective Function\""
   ]
  },
  {
   "cell_type": "markdown",
   "id": "be608d15",
   "metadata": {},
   "source": [
    "# Linearization of the Fractional Objective Function"
   ]
  },
  {
   "cell_type": "code",
   "execution_count": 41,
   "id": "74e0f42d",
   "metadata": {},
   "outputs": [],
   "source": [
    "# We will follow 5 Steps of the pseudo-code"
   ]
  },
  {
   "cell_type": "markdown",
   "id": "2cd4210a",
   "metadata": {},
   "source": [
    "# Step 1: Fractional Nonlinear 0-1 Reformulation via Binary Expansion"
   ]
  },
  {
   "cell_type": "markdown",
   "id": "aace6194",
   "metadata": {},
   "source": [
    "$$\\mbox{Add} \\ \\ x_j \\le \\sum_{u=1}^{\\bar{w}}u\\alpha_{ju} \\le \\bar{w} x_j, \\ \\forall \\ j \\in J \\ \\ \\mbox{into the model} $$"
   ]
  },
  {
   "cell_type": "code",
   "execution_count": 42,
   "id": "be68bdcd",
   "metadata": {},
   "outputs": [],
   "source": [
    "# Add constraints 5.1c into the model (including 2 x n constraints)"
   ]
  },
  {
   "cell_type": "code",
   "execution_count": 43,
   "id": "08dbcf7c",
   "metadata": {},
   "outputs": [],
   "source": [
    "for j in J:\n",
    "    model.addConstr(x[j] <= gp.quicksum(u*alpha[j,u] for u in range(1, BarW + 1)), name='5.1cLeftSide'+str(j)+'th')\n",
    "    model.addConstr(gp.quicksum(u*alpha[j,u] for u in range(1, BarW + 1)) <= BarW * x[j], name='5.1cRightSide'+str(j)+'th')\n",
    "model.addConstr(BarT == gp.quicksum(gp.quicksum(u*alpha[j,u] for u in range(1, BarW + 1)) for j in J), name='5.1d')\n",
    "for j in J:\n",
    "    model.addConstr(gp.quicksum(alpha[j,u] for u in range(1, BarW + 1)) <= 1, name='5.1e'+str(j)+'th')\n",
    "for i in I:\n",
    "    model.addConstr(gp.quicksum(y[i,j] for j in J) == 1, name='1.5a'+str(i)+'th')\n",
    "for i in I:\n",
    "    for j in J:\n",
    "        model.addConstr(y[i,j] <= x[j], name='1.5b'+str(i)+','+str(j)+'th')\n",
    "model.addConstr(gp.quicksum(x[j] for j in J) == BarL, name='1.5c')\n",
    "model.update()"
   ]
  },
  {
   "cell_type": "markdown",
   "id": "72c4f5e6",
   "metadata": {},
   "source": [
    "# Step 2: Epigraphical-type MINLP reformulation"
   ]
  },
  {
   "cell_type": "code",
   "execution_count": 44,
   "id": "1fea32c6",
   "metadata": {},
   "outputs": [],
   "source": [
    "# In this step, we introduce auxiliary nonnegative continuous variables q,r,v (q_{ju}, r_{ju}, v_{ju})"
   ]
  },
  {
   "cell_type": "markdown",
   "id": "ca14ba54",
   "metadata": {},
   "source": [
    "$$\\mbox{Add auxiliary nonnegative continuous variables} \\ \\ q_{ju}, r_{ju}, v_{ju} , j \\in J, \\ u =1,\\ldots,\\bar{w} \\ \\ \\mbox{into the model} $$\n"
   ]
  },
  {
   "cell_type": "code",
   "execution_count": 45,
   "id": "f25b9270",
   "metadata": {},
   "outputs": [],
   "source": [
    "# At this point, we have polynomial constraints and multilinear objective functions. Those are not readable by Gurobi\n",
    "# solver. Thus, we do not add them into the model, but reformulate them in the next step."
   ]
  },
  {
   "cell_type": "markdown",
   "id": "2371d793",
   "metadata": {},
   "source": [
    "# Step 3: Quasi-Multilinearization of Polynomial Constraints"
   ]
  },
  {
   "cell_type": "code",
   "execution_count": 46,
   "id": "fa42f1d2",
   "metadata": {},
   "outputs": [],
   "source": [
    "# In this step, we do not introduce any auxiliary variables, but start to reformulate the polynomial constraints in Step 2\n",
    "# Here, we do analytical method or induction method to calculate the coefficients a_{U,j,h},\n",
    "# for any subset U \\subseteq I, |U| \\le h, h=1,2,...,BarW + 1 "
   ]
  },
  {
   "cell_type": "markdown",
   "id": "1a44f52e",
   "metadata": {},
   "source": [
    "$$ChoiceOfMethod = 0 \\ \\ \\mbox{do analytical method}, \\ = 1 \\ \\ \\mbox{do inductive method}$$"
   ]
  },
  {
   "cell_type": "code",
   "execution_count": 47,
   "id": "80a4b98d",
   "metadata": {},
   "outputs": [],
   "source": [
    "# In this step, we will use a special package in Python, called itertools. This allows us to have any subsets of a set"
   ]
  },
  {
   "cell_type": "markdown",
   "id": "ecaceb2c",
   "metadata": {},
   "source": [
    "$$itertools.combinations(U,r) \\ \\ \\mbox{is the list of all subsets of cardinality r of U}$$"
   ]
  },
  {
   "cell_type": "code",
   "execution_count": 48,
   "id": "fc83a26c",
   "metadata": {},
   "outputs": [],
   "source": [
    "# def ChoiceOfMethod(u,h):\n",
    "#     if h <=4:\n",
    "#         return 1\n",
    "#     if h==5:\n",
    "#         if u>3:\n",
    "#             return 1\n",
    "#         else:\n",
    "#             return 0\n",
    "#     if h==6:\n",
    "#         if u>5:\n",
    "#             return 1\n",
    "#         else:\n",
    "#             return 0\n",
    "#     if h>=7:\n",
    "#         return 0\n",
    "# def a(U,j,h):\n",
    "#     if ChoiceOfMethod(len(U),h)==0:\n",
    "#         if len(U)> h:\n",
    "#             return 0\n",
    "#         else:\n",
    "#             testt=0\n",
    "#             L=len(U)\n",
    "#             for r in range(1,L+1): # r is cardinality of U', r takes any integer value from 1 to |U|\n",
    "#                 for Uprime in list(itertools.combinations(U,r)): # Take any subset U' |subseteq U, where |U'| = r\n",
    "#                     QWER = 0\n",
    "#                     for i in Uprime:\n",
    "#                         QWER = QWER + lamda[i] * MeanS[i,j]\n",
    "#                     QWER = QWER ** h # QWER = (\\sum_{i \\in U'} lamda_{i} E[S_{ij}])^h\n",
    "#                     testt = testt + ((-1)**(L-r))* QWER \n",
    "#             return float(testt)  \n",
    "#     if ChoiceOfMethod(len(U),h)==1: # Do induction method\n",
    "#         if len(U)>h:\n",
    "#             return 0\n",
    "#         elif h==1:\n",
    "#             return float(lamda[U] * MeanS[U,j])\n",
    "#         elif len(U)==h:\n",
    "#             sum1=0\n",
    "#             for l in U:\n",
    "#                 tupleU = tuple(x for x in U if x != l)\n",
    "#                 sum1 = sum1 + a(tupleU,j,h-1) * lamda[l] * MeanS[l,j]\n",
    "#             return float(sum1)\n",
    "#         elif len(U)==1:\n",
    "#             sum2=0\n",
    "#             for l in U:\n",
    "#                 sum2 = sum2 + lamda[l] * MeanS[l,j]\n",
    "#             return float(sum2 * a(U,j,h-1))\n",
    "#         else:\n",
    "#             sum1=0\n",
    "#             for l in U:\n",
    "#                 tupleU = tuple(x for x in U if x != l)\n",
    "#                 sum1 = sum1 + a(tupleU,j,h-1) * lamda[l] * MeanS[l,j]\n",
    "#             sum2=0\n",
    "#             for l in U:\n",
    "#                 sum2 = sum2 + lamda[l] * MeanS[l,j] \n",
    "#             return float(sum1 + sum2 * a(U,j,h-1))"
   ]
  },
  {
   "cell_type": "code",
   "execution_count": 49,
   "id": "9d3a2ccf",
   "metadata": {},
   "outputs": [],
   "source": [
    "def a(U,j,h):\n",
    "    if len(U)> h:\n",
    "        return 0\n",
    "    else:\n",
    "        testt=0\n",
    "        L=len(U)\n",
    "        for r in range(1,L+1): # r is cardinality of U', r takes any integer value from 1 to |U|\n",
    "            for Uprime in list(itertools.combinations(U,r)): # Take any subset U' |subseteq U, where |U'| = r\n",
    "                QWER = 0\n",
    "                for i in Uprime:\n",
    "                    QWER = QWER + lamda[i] * MeanS[i,j]\n",
    "                QWER = QWER ** h # QWER = (\\sum_{i \\in U'} lamda_{i} E[S_{ij}])^h\n",
    "                testt = testt + ((-1)**(L-r))* QWER \n",
    "        return float(testt)  "
   ]
  },
  {
   "cell_type": "code",
   "execution_count": 50,
   "id": "42b25e60",
   "metadata": {},
   "outputs": [],
   "source": [
    "# def a(U,j,h):\n",
    "#     if len(U)>h:\n",
    "#         return 0\n",
    "#     elif h==1:\n",
    "#         return float(lamda[U] * MeanS[U,j])\n",
    "#     elif len(U)==h:\n",
    "#         sum1=0\n",
    "#         for l in U:\n",
    "#             tupleU = tuple(x for x in U if x != l)\n",
    "#             sum1 = sum1 + a(tupleU,j,h-1) * lamda[l] * MeanS[l,j]\n",
    "#         return float(sum1)\n",
    "#     elif len(U)==1:\n",
    "#         sum2=0\n",
    "#         for l in U:\n",
    "#             sum2 = sum2 + lamda[l] * MeanS[l,j]\n",
    "#         return float(sum2 * a(U,j,h-1))\n",
    "#     else:\n",
    "#         sum1=0\n",
    "#         for l in U:\n",
    "#             tupleU = tuple(x for x in U if x != l)\n",
    "#             sum1 = sum1 + a(tupleU,j,h-1) * lamda[l] * MeanS[l,j]\n",
    "#         sum2=0\n",
    "#         for l in U:\n",
    "#             sum2 = sum2 + lamda[l] * MeanS[l,j] \n",
    "#         return float(sum1 + sum2 * a(U,j,h-1))"
   ]
  },
  {
   "cell_type": "code",
   "execution_count": 51,
   "id": "423c48bd",
   "metadata": {},
   "outputs": [],
   "source": [
    "def aConvoluB(U,j,u):\n",
    "    sum=0\n",
    "    for k in range(len(U),u+1):\n",
    "        sum=sum + b[u,k] * a(U,j, k)\n",
    "    return sum\n",
    "# abLater=np.zeros(shape=(LengthByUJump0[BarW],n))\n",
    "# for j in J:\n",
    "#     q=0\n",
    "#     for run in ListUJump0:\n",
    "#         if len(run)>ListuJump0[q]:\n",
    "#             abLater[q,j]=0\n",
    "#             q=q+1\n",
    "#         else:\n",
    "#             for k in range(len(run),ListuJump0[q]+1):\n",
    "#                 abLater[q,j] = abLater[q,j] + b[ListuJump0[q],k] * a(run,j, k)\n",
    "#             q=q+1"
   ]
  },
  {
   "cell_type": "code",
   "execution_count": 52,
   "id": "88ce3410",
   "metadata": {},
   "outputs": [],
   "source": [
    "# Next, we create spaces to stock values computed, that avoids to re-calculating later. This does not belong to the \n",
    "# pseudo-code. The goal is only to reduce the running time."
   ]
  },
  {
   "cell_type": "markdown",
   "id": "51354f41",
   "metadata": {},
   "source": [
    "$$\\mbox{This does not belong to the pseudo-code. The goal is just to stock values computed in some spaces}$$"
   ]
  },
  {
   "cell_type": "code",
   "execution_count": 53,
   "id": "11ac2b8e",
   "metadata": {},
   "outputs": [],
   "source": [
    "# ListUJump2=[]\n",
    "# LengthByUJump2=[0]\n",
    "# ListuJump2=[]\n",
    "# for u in range(1,BarW+1):\n",
    "#     for r in range(1,u+3):\n",
    "#         ListUJump2= ListUJump2 + list(itertools.combinations(I,r))\n",
    "#         ListuJump2=ListuJump2 + len(list(itertools.combinations(I,r))) * [u]\n",
    "#     LengthByUJump2.append(int(len(ListUJump2)))\n",
    "# ListUJump1=[]\n",
    "# LengthByUJump1=[0]\n",
    "# ListuJump1=[]\n",
    "# for u in range(1,BarW+1):\n",
    "#     for r in range(1,u+2):\n",
    "#         ListUJump1= ListUJump1 + list(itertools.combinations(I,r))\n",
    "#         ListuJump1=ListuJump1 + len(list(itertools.combinations(I,r))) * [u]\n",
    "#     LengthByUJump1.append(int(len(ListUJump1)))\n",
    "# ListUJump0=[]\n",
    "# LengthByUJump0=[0]\n",
    "# ListuJump0=[]\n",
    "# for u in range(1,BarW+1):\n",
    "#     for r in range(1,u+1):\n",
    "#         ListUJump0= ListUJump0 + list(itertools.combinations(I,r))\n",
    "#         ListuJump0=ListuJump0 + len(list(itertools.combinations(I,r))) * [u]\n",
    "#     LengthByUJump0.append(int(len(ListUJump0)))\n",
    "# LengthRJump=[0]\n",
    "# count=0\n",
    "# for r in range(1,BarW+3):\n",
    "#     count=count+len(list(itertools.combinations(I,r)))\n",
    "#     LengthRJump.append(count)"
   ]
  },
  {
   "cell_type": "code",
   "execution_count": 54,
   "id": "57025924",
   "metadata": {},
   "outputs": [],
   "source": [
    "import time\n",
    "start_time = time.time()\n",
    "ListU=[]\n",
    "for r in range(1,min(4,BarW+1)):\n",
    "    ListU= ListU + list(itertools.combinations(I,r))\n",
    "#     Listu=Listu + len(list(itertools.combinations(I,r))) * [r]"
   ]
  },
  {
   "cell_type": "code",
   "execution_count": 55,
   "id": "4d55e4ed",
   "metadata": {},
   "outputs": [],
   "source": [
    "# This will be used later. The goal is to reduce the running time."
   ]
  },
  {
   "cell_type": "markdown",
   "id": "5ca26539",
   "metadata": {},
   "source": [
    "$$\\mbox{Here we stock all the values of } \\ \\ a_{U,j,u} \\ \\ \\mbox{for} \\ \\ |U| \\le u, \\ u=1,\\ldots,\\bar{w} , \\ \\ j \\in J \\ \\ \\mbox{in aLater}$$"
   ]
  },
  {
   "cell_type": "code",
   "execution_count": 56,
   "id": "d71e2ed8",
   "metadata": {},
   "outputs": [],
   "source": [
    "#integratedUju0 = [(U,j,u) for U in ListU for j in J for u in range(1,BarW+1) if len(U)<=u]\n",
    "integratedUju1 = [(U,j,u) for U in ListU for j in J for u in range(1,BarW+1) if len(U)<=u+1]\n",
    "#integratedUju2 = [(U,j,u) for U in ListU for j in J for u in range(1,BarW+1) if len(U)<=u+2]\n",
    "integratedUj = [(U,j) for U in ListU for j in J]"
   ]
  },
  {
   "cell_type": "code",
   "execution_count": 57,
   "id": "820de9cc",
   "metadata": {},
   "outputs": [],
   "source": [
    "# values_a = {}\n",
    "# for U in ListU:\n",
    "#     for j in J:\n",
    "#         for u in range(1,BarW+1):\n",
    "#             if len(U) <= u:\n",
    "#                 value = a(U, j, u)  \n",
    "#                 values_a[(U, j, u)] = value\n",
    "# values_aConvoluB = {}\n",
    "# for U in ListU:\n",
    "#     for j in J:\n",
    "#         for u in range(1,BarW+1):\n",
    "#             if len(U) <= u:\n",
    "#                 value = aConvoluB(U, j, u)  \n",
    "#                 values_aConvoluB[(U, j, u)] = value"
   ]
  },
  {
   "cell_type": "code",
   "execution_count": 58,
   "id": "f957e8f7",
   "metadata": {},
   "outputs": [],
   "source": [
    "# aLater=np.zeros(shape=(LengthByUJump0[BarW],n))\n",
    "# for j in J:\n",
    "#     q=0\n",
    "#     for run in ListUJump0:\n",
    "#         aLater[q,j] = a(run,j,ListuJump0[q]+1)\n",
    "#         q=q+1"
   ]
  },
  {
   "cell_type": "code",
   "execution_count": 59,
   "id": "431ecb06",
   "metadata": {},
   "outputs": [],
   "source": [
    "# Next, we calculate the vector b_u = (b_{u,0},...,b_{u,u}). This is a part of pseudo-code"
   ]
  },
  {
   "cell_type": "markdown",
   "id": "e45ba703",
   "metadata": {},
   "source": [
    "$$\\mbox{Compute} \\ \\ \\mathbf{b_u} = (b_{u,0},...,b_{u,u}) \\ \\ \\mbox{see Theorem 5.3}$$"
   ]
  },
  {
   "cell_type": "code",
   "execution_count": 60,
   "id": "3010fa52",
   "metadata": {},
   "outputs": [],
   "source": [
    "b=np.zeros(shape=(BarW+1, BarW+1))\n",
    "for u in range(1,BarW+1):\n",
    "    if u==1:\n",
    "        b[u,0]=1\n",
    "        b[u,1]=-1\n",
    "    elif u==2:\n",
    "        b[u,0]=4\n",
    "        b[u,1]=0\n",
    "        b[u,2]=-1\n",
    "    else:\n",
    "        b[u,0]= (u**2) * math.factorial(u-1)\n",
    "        b[u,1]= (u**2-2*u) * math.factorial(u-1)\n",
    "        for k in range(2,u):\n",
    "            term1=(u**2) * math.factorial(u-1) / math.factorial(k)\n",
    "            term2=(2*u) * math.factorial(u-1) / math.factorial(k-1)\n",
    "            term3=math.factorial(u-1) / math.factorial(k-2)\n",
    "            b[u,k]= term1-term2+term3\n",
    "        b[u,u]=-1"
   ]
  },
  {
   "cell_type": "markdown",
   "id": "5d02f420",
   "metadata": {},
   "source": [
    "$$\\mbox{Here we stock all the values of } \\ \\ \\sum_{k = |U|}^{u} b_{u,k} a_{U,j,k} \\ \\ \\mbox{for} \\ \\ |U| \\le u, \\ u=1,\\ldots,\\bar{w} , \\ \\ j \\in J \\ \\ \\mbox{in abLater}, \\ \\ \\mbox{see 5.75c in the paper}$$"
   ]
  },
  {
   "cell_type": "code",
   "execution_count": 61,
   "id": "6478b16d",
   "metadata": {},
   "outputs": [],
   "source": [
    "# This will be used later. The goal is to reduce the running time."
   ]
  },
  {
   "cell_type": "code",
   "execution_count": 62,
   "id": "3b89fbeb",
   "metadata": {},
   "outputs": [],
   "source": [
    "# abLater=np.zeros(shape=(LengthByUJump0[BarW],n))\n",
    "# for j in J:\n",
    "#     q=0\n",
    "#     for run in ListUJump0:\n",
    "#         if len(run)>ListuJump0[q]:\n",
    "#             abLater[q,j]=0\n",
    "#             q=q+1\n",
    "#         else:\n",
    "#             for k in range(len(run),ListuJump0[q]+1):\n",
    "#                 abLater[q,j] = abLater[q,j] + b[ListuJump0[q],k] * a(run,j, k)\n",
    "#             q=q+1"
   ]
  },
  {
   "cell_type": "code",
   "execution_count": 63,
   "id": "a3a48766",
   "metadata": {},
   "outputs": [],
   "source": [
    "# At this point, step 3 is done, the polynomial constraints at Step 3 can be quasi-multilinearized\n",
    "# by the coefficients a_{U,j,h} and vectors b_{u}. Quasi-multilinear constraints are still not readable\n",
    "# by Gurobi solver. Thus, we now moving to Step 4 to reformulate them"
   ]
  },
  {
   "cell_type": "markdown",
   "id": "48af33a0",
   "metadata": {},
   "source": [
    "# Step 4:  Multilinearization of Quasi-Multilinear Constraints"
   ]
  },
  {
   "cell_type": "code",
   "execution_count": 64,
   "id": "c0bb04ea",
   "metadata": {},
   "outputs": [],
   "source": [
    "# In this step, we will multilinearize the constraints in Step 3. To do this,\n",
    "# we compute the coefficient d^{(1)}, d^{(2)}, d^{(3)}, d^{(4)} (input U,j,u)"
   ]
  },
  {
   "cell_type": "markdown",
   "id": "3249481a",
   "metadata": {},
   "source": [
    "$$\\mbox{Compute} \\ \\  d^{(1)}_{U,j,u}, |U| \\le u+2  \\ \\ \\mbox{Lemma 5.4}$$"
   ]
  },
  {
   "cell_type": "code",
   "execution_count": 65,
   "id": "b7999ba2",
   "metadata": {},
   "outputs": [],
   "source": [
    "#compute d^{(1)}_{U,j,u}, |U| le u+2 "
   ]
  },
  {
   "cell_type": "code",
   "execution_count": 66,
   "id": "a41c8558",
   "metadata": {},
   "outputs": [],
   "source": [
    "def d1(U,j,u):\n",
    "    if len(U)>u+2:\n",
    "        return 0\n",
    "    elif len(U)==1:\n",
    "        sum1=0\n",
    "        for k in range(1,u+1):\n",
    "            sum1=sum1+b[u,k]*a(U,j,k)\n",
    "        return float(lamda[U]**2*(b[u,0] + sum1))\n",
    "    elif len(U)==2:\n",
    "        i=U[0]\n",
    "        t=U[1]\n",
    "        if u==1:\n",
    "            sum1=0\n",
    "            for k in range(1,u+1):\n",
    "                sum1=sum1+ lamda[i]**2 * b[u,k]*a((t,),j,k)  + lamda[t]**2 * b[u,k]*a((i,),j,k) \n",
    "            sum1=sum1 + 2 * b[u,0] * lamda[i] * lamda[t]\n",
    "            for k in range(1,u+1):\n",
    "                sum1 = sum1+2 * lamda[i] * lamda[t] * b[u,k] * (a((t,),j,k)+ a((i,),j,k))\n",
    "            return float(sum1)\n",
    "        else:\n",
    "            sum1=0\n",
    "            for k in range(1,u+1):\n",
    "                sum1=sum1+ lamda[i]**2 * b[u,k]*a((t,),j,k)  + lamda[t]**2 * b[u,k]*a((i,),j,k)\n",
    "            sum1=sum1 + 2 * b[u,0] * lamda[i] * lamda[t]\n",
    "            for k in range(2,u+1):\n",
    "                sum1=sum1+ (lamda[i]**2+lamda[t]**2)*b[u,k]*a(U,j,k)\n",
    "            for k in range(1,u+1):\n",
    "                sum1 = sum1+2 * lamda[i] * lamda[t] * b[u,k] * (a((t,),j,k)+ a((i,),j,k))\n",
    "            for k in range(2,u+1):\n",
    "                sum1 = sum1+2 * lamda[i] * lamda[t] * b[u,k] * a(U,j,k)\n",
    "            return float(sum1)\n",
    "    else:\n",
    "        if len(U)==u+2:\n",
    "            sum1=0\n",
    "            for (i,t) in list(itertools.combinations(U,2)):\n",
    "                tupleU = tuple(x for x in U if x != i and x != t)\n",
    "                sum1 = sum1 + 2 * lamda[i] * lamda[t] * b[u,u] * a(tupleU,j,u)\n",
    "            return float(sum1)\n",
    "        elif len(U)==u+1:\n",
    "            sum1=0\n",
    "            for (i,t) in list(itertools.combinations(U,2)):\n",
    "                tupleUi = tuple(x for x in U if x != i)\n",
    "                tupleUt = tuple(x for x in U if x != t)\n",
    "                tupleU = tuple(x for x in U if x != i and x != t)\n",
    "                sum1 = sum1 + 2 * lamda[i] * lamda[t] * b[u,u] * (a(tupleUi,j,u)+a(tupleUt,j,u))\n",
    "                sum1 = sum1 + 2 * lamda[i] **2 * b[u,u] * a(tupleUi,j,u) + 2 * lamda[t] **2 * b[u,u] * a(tupleUt,j,u)\n",
    "                sum1 = sum1 + 2 * lamda[i] * lamda[t] * (b[u,u-1] * a(tupleU,j,u-1) + b[u,u] * a(tupleU,j,u))\n",
    "            return float(sum1)\n",
    "        else:\n",
    "            L=len(U)\n",
    "            sum1=0\n",
    "            sum2=0\n",
    "            for k in range(L,u+1):\n",
    "                sum2=sum2+b[u,k] * a(U,j,k)\n",
    "            sum3=0\n",
    "            sum4=0\n",
    "            sum5=0\n",
    "            sum6=0\n",
    "            for i in U:\n",
    "                tupleUi = tuple(x for x in U if x != i)\n",
    "                sum5=sum5+lamda[i]**2\n",
    "                for k in range(L-1,u+1):\n",
    "                    sum4=sum4+ lamda[i] **2 * b[u,k] * a(tupleUi,j,k)\n",
    "            for (i,t) in list(itertools.combinations(U,2)):\n",
    "                tupleUi = tuple(x for x in U if x != i)\n",
    "                tupleUt = tuple(x for x in U if x != t)\n",
    "                tupleU = tuple(x for x in U if x != i and x != t)\n",
    "                sum1=sum1+lamda[i] * lamda[t]\n",
    "                sum6 = sum6 + lamda[i] * lamda[t] * b[u,L-2] * a(tupleU,j,L-2)\n",
    "                for k in range(L-1,u+1):\n",
    "                    sum3=sum3 + lamda[i] * lamda[t] * b[u,k] * (a(tupleUi,j,k)+a(tupleUt,j,k))\n",
    "                    sum6 = sum6 + lamda[i] * lamda[t] * b[u,k] * a(tupleU,j,k)\n",
    "            return float(2*sum1*sum2+2*sum3+sum4+sum5 * sum2 + 2 * sum6)                                            "
   ]
  },
  {
   "cell_type": "code",
   "execution_count": 67,
   "id": "17525622",
   "metadata": {},
   "outputs": [],
   "source": [
    "# Next, we stock the values of d^{(1)} in an array, called d11. The advantage is  that will be used several times later, \n",
    "# without re-calling the function."
   ]
  },
  {
   "cell_type": "markdown",
   "id": "79717503",
   "metadata": {},
   "source": [
    "$$\\mbox{Here, stock the values of} \\ \\ d^{(1)}_{U,j,u}, \\ \\ |U| \\le u+2,  \\ \\ u = 1,\\ldots, \\bar{w}, \\ \\ j \\in J \\ \\ \\mbox{in d11}$$"
   ]
  },
  {
   "cell_type": "code",
   "execution_count": 68,
   "id": "13ff3572",
   "metadata": {},
   "outputs": [],
   "source": [
    "# d11=np.zeros(shape=(LengthByUJump2[BarW],n))\n",
    "# for j in J:\n",
    "#     q=0\n",
    "#     for run in ListUJump2:\n",
    "#         d11[q,j] = d1(run,j,ListuJump2[q])\n",
    "#         q=q+1"
   ]
  },
  {
   "cell_type": "markdown",
   "id": "cf4a3e39",
   "metadata": {},
   "source": [
    "$$\\mbox{Compute} \\ \\  d^{(2)}_{U,j,u}, |U| \\le u+1  \\ \\ \\mbox{Lemma 5.5}$$"
   ]
  },
  {
   "cell_type": "code",
   "execution_count": 69,
   "id": "3f61143c",
   "metadata": {},
   "outputs": [],
   "source": [
    "#compute d^{(2)}_{U,j,u}, |U| le u+1"
   ]
  },
  {
   "cell_type": "code",
   "execution_count": 70,
   "id": "122c1994",
   "metadata": {},
   "outputs": [],
   "source": [
    "def d2(U,j,u):\n",
    "    if len(U)>u+1:\n",
    "        return 0\n",
    "    if len(U)==1:\n",
    "        sum1=0\n",
    "        for k in range(1,u+1):\n",
    "            sum1=sum1+b[u,k]*a(U,j,k)\n",
    "        return float(lamda[U]*(b[u,0] + sum1))\n",
    "    elif len(U)==u+1:\n",
    "        L=len(U)\n",
    "        sum1=0\n",
    "        for i in U:\n",
    "            tupleUi = tuple(x for x in U if x != i)\n",
    "            for k in range(L-1,u+1):\n",
    "                sum1=sum1+ lamda[i] * b[u,k] * a(tupleUi,j,k)\n",
    "        return float(sum1)\n",
    "    else:\n",
    "        L=len(U)\n",
    "        sum1=0\n",
    "        for i in U:\n",
    "            tupleUi = tuple(x for x in U if x != i)\n",
    "            sum1=sum1+ lamda[i] * b[u,L-1] * a(tupleUi,j,L-1)\n",
    "            for k in range(L,u+1):\n",
    "                sum1=sum1+ lamda[i] * b[u,k] * a(tupleUi,j,k) + lamda[i] * b[u,k] * a(U,j,k)\n",
    "        return float(sum1)"
   ]
  },
  {
   "cell_type": "code",
   "execution_count": 71,
   "id": "94235c82",
   "metadata": {},
   "outputs": [],
   "source": [
    "# Next, we stock the values of d^{(2)} in an array, called d22. The advantage is  that will be used several times later, \n",
    "# without re-calling the function."
   ]
  },
  {
   "cell_type": "markdown",
   "id": "a6c663e1",
   "metadata": {},
   "source": [
    "$$\\mbox{Here, stock the values of} \\ \\ d^{(2)}_{U,j,u}, \\ \\ |U| \\le u+1,  \\ \\ u = 1,\\ldots, \\bar{w}, \\ \\ j \\in J \\ \\ \\mbox{in d22}$$"
   ]
  },
  {
   "cell_type": "code",
   "execution_count": 72,
   "id": "1c16cf92",
   "metadata": {},
   "outputs": [],
   "source": [
    "# d22=np.zeros(shape=(LengthByUJump1[BarW],n))\n",
    "# for j in J:\n",
    "#     q=0\n",
    "#     for run in ListUJump1:\n",
    "#         d22[q,j] = d2(run,j,ListuJump1[q])\n",
    "#         q=q+1"
   ]
  },
  {
   "cell_type": "code",
   "execution_count": 73,
   "id": "427a8ccf",
   "metadata": {},
   "outputs": [],
   "source": [
    "#compute d^{(3)}_{U,j,u}, |U| le u+2"
   ]
  },
  {
   "cell_type": "markdown",
   "id": "e1268947",
   "metadata": {},
   "source": [
    "$$\\mbox{Compute} \\ \\  d^{(3)}_{U,j,u}, |U| \\le u+2  \\ \\ \\mbox{Lemma 5.6}$$"
   ]
  },
  {
   "cell_type": "code",
   "execution_count": 74,
   "id": "7ab3b169",
   "metadata": {},
   "outputs": [],
   "source": [
    "def d3(U,j,u):\n",
    "    if len(U)>u+2:\n",
    "        return 0\n",
    "    if len(U)==1:\n",
    "        return float(lamda[U] * c2T[U,j] * a(U,j,u+1))\n",
    "    elif len(U)==u+2:\n",
    "        sum1=0\n",
    "        for i in U:\n",
    "            tupleUi = tuple(x for x in U if x != i)\n",
    "            sum1=sum1+ lamda[i] * c2T[i,j] * a(tupleUi,j,u+1)\n",
    "        return float(sum1)\n",
    "    else:\n",
    "        sum1=0\n",
    "        for i in U:\n",
    "            tupleUi = tuple(x for x in U if x != i)\n",
    "            sum1=sum1+ lamda[i] * c2T[i,j] * a(tupleUi,j,u+1) + lamda[i] * c2T[i,j] * a(U,j,u+1)\n",
    "        return float(sum1)"
   ]
  },
  {
   "cell_type": "code",
   "execution_count": 75,
   "id": "9d55edc6",
   "metadata": {},
   "outputs": [],
   "source": [
    "# Next, we stock the values of d^{(3)} in an array, called d33. The advantage is  that will be used several times later, \n",
    "# without re-calling the function."
   ]
  },
  {
   "cell_type": "markdown",
   "id": "b13586cd",
   "metadata": {},
   "source": [
    "$$\\mbox{Here, stock the values of} \\ \\ d^{(3)}_{U,j,u}, \\ \\ |U| \\le u+2,  \\ \\ u = 1,\\ldots, \\bar{w}, \\ \\ j \\in J \\ \\ \\mbox{in d33}$$"
   ]
  },
  {
   "cell_type": "code",
   "execution_count": 76,
   "id": "8a1b1b06",
   "metadata": {},
   "outputs": [],
   "source": [
    "# d33=np.zeros(shape=(LengthByUJump2[BarW],n))\n",
    "# for j in J:\n",
    "#     q=0\n",
    "#     for run in ListUJump2:\n",
    "#         d33[q,j] = d3(run,j,ListuJump2[q])\n",
    "#         q=q+1"
   ]
  },
  {
   "cell_type": "code",
   "execution_count": 77,
   "id": "09804a7e",
   "metadata": {},
   "outputs": [],
   "source": [
    "#compute d^{(4)}_{U,j,u}, |U| le u"
   ]
  },
  {
   "cell_type": "markdown",
   "id": "5e7bfa3d",
   "metadata": {},
   "source": [
    "$$\\mbox{Compute} \\ \\  d^{(4)}_{U,j,u}, |U| \\le u  \\ \\ \\mbox{Lemma 5.7}$$"
   ]
  },
  {
   "cell_type": "code",
   "execution_count": 78,
   "id": "e71e0c51",
   "metadata": {},
   "outputs": [],
   "source": [
    "def d4(U,j,u):\n",
    "    if len(U)>u:\n",
    "        return 0\n",
    "    if u==1:\n",
    "        return float(lamda[U]*SecondMS[U,j])\n",
    "    elif len(U)==1:\n",
    "        return float(lamda[U] * SecondMS[U,j] * a(U,j,u-1))\n",
    "    elif len(U)==u:\n",
    "        sum1=0\n",
    "        for i in U:\n",
    "            tupleUi = tuple(x for x in U if x != i)\n",
    "            sum1=sum1+ lamda[i] * SecondMS[i,j] * a(tupleUi,j,u-1)\n",
    "        return float(sum1)\n",
    "    else:\n",
    "        sum1=0\n",
    "        for i in U:\n",
    "            tupleUi = tuple(x for x in U if x != i)\n",
    "            sum1=sum1+ lamda[i] * SecondMS[i,j] * a(tupleUi,j,u-1) + lamda[i] * SecondMS[i,j] * a(U,j,u-1)\n",
    "        return float(sum1)"
   ]
  },
  {
   "cell_type": "code",
   "execution_count": 79,
   "id": "86c13915",
   "metadata": {},
   "outputs": [
    {
     "data": {
      "text/plain": [
       "8.509763901808792e-06"
      ]
     },
     "execution_count": 79,
     "metadata": {},
     "output_type": "execute_result"
    }
   ],
   "source": [
    "d4((1,2,3,4),4,4)"
   ]
  },
  {
   "cell_type": "code",
   "execution_count": 80,
   "id": "df7292de",
   "metadata": {},
   "outputs": [],
   "source": [
    "# Next, we stock the values of d^{(4)} in an array, called d44. The advantage is  that will be used several times later, \n",
    "# without re-calling the function."
   ]
  },
  {
   "cell_type": "markdown",
   "id": "74d479e4",
   "metadata": {},
   "source": [
    "$$\\mbox{Here, stock the values of} \\ \\ d^{(4)}_{U,j,u}, \\ \\ |U| \\le u,  \\ \\ u = 1,\\ldots, \\bar{w}, \\ \\ j \\in J \\ \\ \\mbox{in d44}$$"
   ]
  },
  {
   "cell_type": "code",
   "execution_count": 81,
   "id": "a55f277f",
   "metadata": {},
   "outputs": [],
   "source": [
    "# d44=np.zeros(shape=(LengthByUJump0[BarW],n))\n",
    "# for j in J:\n",
    "#     q=0\n",
    "#     for run in ListUJump0:\n",
    "#         d44[q,j] = d4(run,j,ListuJump0[q])\n",
    "#         q=q+1"
   ]
  },
  {
   "cell_type": "code",
   "execution_count": 82,
   "id": "b8d7e4ac",
   "metadata": {},
   "outputs": [],
   "source": [
    "# We defined all coefficients d^{(1)},  d^{(2)}, d^{(3)}, d^{(4)}. We are now moving to the final step, Linearization"
   ]
  },
  {
   "cell_type": "markdown",
   "id": "6b12b21e",
   "metadata": {},
   "source": [
    "# Step 5:  Linearization and MILP Reformulation"
   ]
  },
  {
   "cell_type": "code",
   "execution_count": 83,
   "id": "23ac43e0",
   "metadata": {},
   "outputs": [],
   "source": [
    "# First, we need to get upper bounds for continuous bounded variables, i.e. q_{ju}, r_{ju}, etc. To get them, we need to\n",
    "# solve additional optimization problems and/or derive closed-form analytical formulation of these bounds.\n",
    "# We solve several optimization problems or one optimization problem to get all upper bounds at once\n",
    "# The bounds we need to get here is Barq_{ju}, Barr_{ju}, Barv_{ju}, for (j,u) \\in \\mathcal{V}\n",
    "# In this file.py, we decide to temporarily assign a high deterministic value for this.\n",
    "# We want the following holds"
   ]
  },
  {
   "cell_type": "markdown",
   "id": "a7c732b6",
   "metadata": {},
   "source": [
    "$$\\bar{v}_{ju} \\ge (5.3)$$ $$\\bar{q}_{ju} \\ge \\frac{\\sum_{l \\in I}\\lambda_l y_{lj} c^2_{T_{lj}}}{\\sum_{l \\in I}\\lambda_l y_{lj}} \\times (5.3)$$  $$\\bar{r}_{ju} \\ge \\frac{\\left(\\sum_{l \\in I} \\lambda_l y_{lj}\\right)\\left(\\sum_{l \\in I} \\lambda_l y_{lj} \\mathbb{E}[S_{lj}^2]\\right)}{\\left(\\sum_{l \\in I} \\lambda_l y_{lj} \\mathbb{E}[S_{lj}]\\right)^2} \\times (5.3)$$"
   ]
  },
  {
   "cell_type": "code",
   "execution_count": 84,
   "id": "a4e74cea",
   "metadata": {},
   "outputs": [],
   "source": [
    "M=500000 # For now, we just take a high value to test the code, M is used as bounds for all q_{ju}, r_{ju}, etc"
   ]
  },
  {
   "cell_type": "markdown",
   "id": "cf9db688",
   "metadata": {},
   "source": [
    "$$\\mbox{Adding decision variables into the model, including} \\ \\ q, \\ r, \\ v,  \\eta, \\ \\zeta^{(1)}, \\ \\zeta^{(2)}, \\ \\zeta^{(3)}, \\omega^{(1)}, \\ \\omega^{(2)}, \\ \\omega^{(3)}$$"
   ]
  },
  {
   "cell_type": "code",
   "execution_count": 85,
   "id": "45400116",
   "metadata": {},
   "outputs": [],
   "source": [
    "#qVar=model.addVars(n, BarW + 1, vtype=GRB.CONTINUOUS, lb=0, ub=M, name='qVar') # introduce auxiliary nonnegative vector q in the model\n",
    "#rVar=model.addVars(n, BarW + 1, vtype=GRB.CONTINUOUS, lb=0, ub=M, name='rVar') # introduce auxiliary nonnegative vector r in the model\n",
    "vVar=model.addVars(n, BarW + 1, vtype=GRB.CONTINUOUS, lb=0, ub=M, name='vVar') # introduce auxiliary nonnegative vector v in the model\n",
    "# LEN=LengthByUJump0[BarW]-LengthByUJump0[BarW-1]\n",
    "eta=model.addVars(integratedUj, vtype=GRB.CONTINUOUS, lb=0,ub=1, name='eta')\n",
    "#zeta1=model.addVars(integratedUju2, vtype=GRB.CONTINUOUS,lb=0, ub=M, name='zeta1')   \n",
    "#zeta2=model.addVars(integratedUju0, vtype=GRB.CONTINUOUS,lb=0, ub=M, name='zeta2')\n",
    "zeta3=model.addVars(integratedUju1, vtype=GRB.CONTINUOUS,lb=0, ub=M, name='zeta3')\n",
    "#omega1=model.addVars(m, n, BarW + 1, vtype=GRB.CONTINUOUS,lb=0, ub=M, name='omega1')     \n",
    "#omega2=model.addVars(m, n, BarW + 1, vtype=GRB.CONTINUOUS,lb=0, ub=M, name='omega2')\n",
    "omega3=model.addVars(m, n, BarW + 1, vtype=GRB.CONTINUOUS,lb=0, ub=M, name='omega3')\n",
    "model.update()"
   ]
  },
  {
   "cell_type": "markdown",
   "id": "237006ba",
   "metadata": {},
   "source": [
    "$$\\mbox{Add} \\ \\ \\sum_{U \\subseteq I, \\ |U| \\le u+2} d^{(3)}_{U,j,u} \\eta^{}_{U,j} = 2 \\sum_{U \\subseteq I\\ |U| \\le u+2} d^{(1)}_{U,j,u} \\zeta^{(1)}_{U,j,u}, \\quad \\quad \\quad \\forall \\ (j,u) \\in \\mathcal{V} \\ \\ (5.75b)$$"
   ]
  },
  {
   "cell_type": "markdown",
   "id": "fd951bb3",
   "metadata": {},
   "source": [
    "$$\\mbox{Add} \\ \\ \\sum_{U \\subseteq I ,\\ |U| \\le u} d^{(4)}_{U,j,u} \\eta^{}_{U,j} = 2\\left(b_{u,0} r_{ju}+ \\sum_{U \\subseteq I, \\ |U| \\le u} \\left(\\sum_{k=|U|}^{u}b_{u,k}a^{}_{U,j,k}\\right)\\zeta^{(2)}_{U,j,u}\\right), \\quad \\quad \\quad \\forall \\ (j,u) \\in \\mathcal{V} \\ \\ (5.75c)$$"
   ]
  },
  {
   "cell_type": "markdown",
   "id": "22d9a6d8",
   "metadata": {},
   "source": [
    "$$\\mbox{Add} \\ \\ \\sum_{U \\subseteq I\\ |U| \\le u+1}a^{}_{U,j,u+1} \\eta^{}_{U,j} = 2  \\sum_{U \\subseteq I\\ |U| \\le u+1} d^{(2)}_{U,j,u} \\zeta^{(3)}_{U,j,u}, \\quad \\quad \\quad \\forall \\ (j,u) \\in \\mathcal{V} \\ \\ (5.75d)$$"
   ]
  },
  {
   "cell_type": "code",
   "execution_count": 86,
   "id": "0a54a642",
   "metadata": {},
   "outputs": [],
   "source": [
    "# for u in range(1,BarW + 1):\n",
    "#     for j in J:\n",
    "#         model.addConstr(gp.quicksum(d33[run,j] * eta[run-LengthByUJump2[u-1],j] for run in range(LengthByUJump2[u-1],LengthByUJump2[u])) == 2 * gp.quicksum(d11[run,j] * zeta1[run,j] for run in range(LengthByUJump2[u-1],LengthByUJump2[u])), name='5.75b'+str(j+1)+str(u))\n",
    "#         model.addConstr(gp.quicksum(d44[run,j] * eta[run-LengthByUJump0[u-1],j] for run in range(LengthByUJump0[u-1],LengthByUJump0[u])) == 2 * b[u,0] * rVar[j,u] + 2 * gp.quicksum(abLater[run,j] * zeta2[run,j] for run in range(LengthByUJump0[u-1],LengthByUJump0[u])), name='5.75c'+str(j+1)+str(u))             \n",
    "#         model.addConstr(gp.quicksum(aLater[run,j] * eta[run-LengthByUJump1[u-1],j] for run in range(LengthByUJump1[u-1],LengthByUJump1[u])) == 2 * gp.quicksum(d22[run,j] * zeta3[run,j] for run in range(LengthByUJump1[u-1],LengthByUJump1[u])), name='5.75d'+str(j+1)+str(u))                                                                                                                                                                                                                                                                                                                        "
   ]
  },
  {
   "cell_type": "code",
   "execution_count": 87,
   "id": "df54563c",
   "metadata": {},
   "outputs": [],
   "source": [
    "\n",
    "for u in range(1,BarW + 1):\n",
    "    for j in J:\n",
    "#        model.addConstr(gp.quicksum(d3(U,j,u) * eta[U,j] for U in ListU if len(U) <= u+2) == 2 * gp.quicksum(d1(U,j,u) * zeta1[U,j,u] for U in ListU if len(U)<=u+2), name='5.75b'+str(j+1)+str(u))\n",
    "#        model.addConstr(gp.quicksum(d4(U,j,u) * eta[U,j] for U in ListU if len(U) <= u) == 2 * b[u,0] * rVar[j,u] + 2 * gp.quicksum(aConvoluB(U,j,u) * zeta2[U,j,u] for U in ListU if len(U) <=u), name='5.75c'+str(j+1)+str(u))              \n",
    "        model.addConstr(gp.quicksum(a(U,j,u+1) * eta[U,j] for U in ListU if len(U)<=u+1) == 2 * gp.quicksum(d2(U,j,u) * zeta3[U,j,u] for U in ListU if len(U)<=u+1), name='5.75d'+str(j+1)+str(u))         "
   ]
  },
  {
   "cell_type": "markdown",
   "id": "ea42f1f1",
   "metadata": {},
   "source": [
    "$$\\mbox{For now, we add the traditional expected-value steady state condition, waiting for the chance constraint section}$$"
   ]
  },
  {
   "cell_type": "markdown",
   "id": "65f07cda",
   "metadata": {},
   "source": [
    "$$\\mbox{Add the expected-value steady state constraint} \\ \\ \\sum_{i \\in I} \\lambda_i y_{ij} \\mathbb{E}[S_{ij}] \\le \\sum_{u=1}^{\\bar{w}}u\\alpha_{ju}$$"
   ]
  },
  {
   "cell_type": "code",
   "execution_count": 88,
   "id": "86a6e839",
   "metadata": {},
   "outputs": [],
   "source": [
    "for j in J:\n",
    "    model.addConstr(gp.quicksum(lamda[i] * y[i,j] * MeanS[i,j] for i in I) <=gp.quicksum(u * alpha[j,u] for u in range(1,BarW + 1)))"
   ]
  },
  {
   "cell_type": "markdown",
   "id": "bd20ef89",
   "metadata": {},
   "source": [
    "$$\\mbox{Add objective function} \\ \\ \\frac{1}{\\sum_{l \\in I} \\lambda_l}\\left[ \\sum_{i \\in I}\\sum_{j \\in J} t_{ij}\\lambda_i y_{ij} + \\sum_{i \\in I}\\sum_{j \\in J} \\sum_{u=1}^{\\bar{w}} \\lambda_i\\left( \\omega^{(1)}_{i,j,u} + \\omega^{(2)}_{i,j,u} - \\omega^{(3)}_{i,j,u}\\right) \\right] , \\ \\ \\mbox{which should be a linear function now}$$"
   ]
  },
  {
   "cell_type": "code",
   "execution_count": 89,
   "id": "91b586e8",
   "metadata": {},
   "outputs": [],
   "source": [
    "model.setObjective(1 / float(sum(lamda)) * (gp.quicksum(t[i,j] * lamda[i] * y[i,j] for i in I for j in J) + gp.quicksum(lamda[i] * (omega3[i,j,u]) for i in I for j in J for u in range(1,BarW + 1))), GRB.MINIMIZE)"
   ]
  },
  {
   "cell_type": "markdown",
   "id": "f29dfa11",
   "metadata": {},
   "source": [
    "$$\\mbox{Add optimality-based constraints} \\ \\ \\sum_{u=1}^{\\bar{w}}\\alpha_{ju} = x_j$$"
   ]
  },
  {
   "cell_type": "code",
   "execution_count": 90,
   "id": "928ec8da",
   "metadata": {},
   "outputs": [],
   "source": [
    "opti1=model.addConstrs(gp.quicksum(y[i,j] for i in I) >= x[j] for j in J)\n",
    "for j in J:\n",
    "    opti1[j].Lazy=3\n",
    "opti2=model.addConstr(gp.quicksum(alpha[j,u] for j in J for u in range(1,BarW+1)) == BarL)\n",
    "opti2.Lazy=3\n",
    "# model.addConstrs(gp.quicksum(alpha[j,u] for u in range(1, BarW + 1)) == x[j] for j in J)\n",
    "model.update()"
   ]
  },
  {
   "cell_type": "markdown",
   "id": "1dddce70",
   "metadata": {},
   "source": [
    "$$\\mbox{Set} \\ \\eta^{}_{U,j} = \\prod_{k \\in U}y_{kj}, \\ \\ \\mbox{which is ensured by} \\ \\ (\\textbf{y}_{U,j}, \\eta^{}_{U,j}) \\in \\mathcal{H}^{\\textbf{y}_{U,j}}_{\\eta^{}_{U,j}}, \\quad \\quad \\quad \\forall \\ U \\subseteq I, \\ |U| \\le \\bar{w}+2, \\ j \\in J$$"
   ]
  },
  {
   "cell_type": "markdown",
   "id": "55981662",
   "metadata": {},
   "source": [
    "1) $$\\mbox{Add} \\ \\ (\\textbf{y}_{U,j}, \\eta^{}_{U,j}) \\in \\mathcal{H}^{\\textbf{y}_{U,j}}_{\\eta^{}_{U,j}}, \\quad \\quad \\quad \\forall \\ U \\subseteq I, \\ |U| \\le \\bar{w}+2, \\ j \\in J \\ \\ \\mbox{into the problem}$$"
   ]
  },
  {
   "cell_type": "markdown",
   "id": "2574ed47",
   "metadata": {},
   "source": [
    "$$\\zeta^{(1)}_{U,j,u} = q_{ju} \\prod_{k \\in U}y_{kj}, \\ \\zeta^{(2)}_{U,j,u} = r_{ju} \\prod_{k \\in U}y_{kj}, \\ \\zeta^{(3)}_{U,j,u} = v_{ju} \\prod_{k \\in U}y_{kj}$$"
   ]
  },
  {
   "cell_type": "markdown",
   "id": "53df5052",
   "metadata": {},
   "source": [
    "2) $$\\mbox{Add} \\ \\ (\\textbf{y}_{U,j}, q_{ju}, \\zeta^{(1)}_{U,j,u}) \\in \\mathcal{Q}^{\\textbf{y}_{U,j}}_{q_{ju}, \\ \\zeta^{(1)}_{U,j,u}} , \\quad \\quad \\quad \\forall \\ U \\subseteq I, \\ |U| \\le u+2, \\ (j,u) \\in \\mathcal{V} \\ \\ \\mbox{}$$ "
   ]
  },
  {
   "cell_type": "markdown",
   "id": "d7452955",
   "metadata": {},
   "source": [
    "3) $$\\mbox{Add} \\ \\ (\\textbf{y}_{U,j}, r_{ju}, \\zeta^{(2)}_{U,j,u}) \\in \\mathcal{Q}^{\\textbf{y}_{U,j}}_{r_{ju}, \\ \\zeta^{(2)}_{U,j,u}} , \\quad \\quad \\quad \\forall \\ U \\subseteq I, \\ |U| \\le u, \\ (j,u) \\in \\mathcal{V} \\ \\ \\mbox{}$$"
   ]
  },
  {
   "cell_type": "markdown",
   "id": "8f3b8131",
   "metadata": {},
   "source": [
    "4) $$\\mbox{Add} \\ \\ (\\textbf{y}_{U,j}, v_{ju}, \\zeta^{(3)}_{U,j,u}) \\in \\mathcal{Q}^{\\textbf{y}_{U,j}}_{v_{ju}, \\ \\zeta^{(3)}_{U,j,u}} , \\quad \\quad \\quad \\forall \\ U \\subseteq I, \\ |U| \\le u+1, \\ (j,u) \\in \\mathcal{V} \\ \\ \\mbox{}$$ "
   ]
  },
  {
   "cell_type": "markdown",
   "id": "54dea764",
   "metadata": {},
   "source": [
    "$$\\omega_{i,j,u}^{(1)} =q_{ju} y_{ij} \\alpha_{ju}, \\ \\omega_{i,j,u}^{(2)} =r_{ju} y_{ij} \\alpha_{ju}, \\omega_{i,j,u}^{(3)} =v_{ju} y_{ij} \\alpha_{ju}$$"
   ]
  },
  {
   "cell_type": "markdown",
   "id": "77ca954a",
   "metadata": {},
   "source": [
    "5) $$\\mbox{Add} \\ \\ ((y_{ij}, \\alpha_{ju}), q_{ju}, \\omega^{(1)}_{i,j,u}) \\in \\mathcal{Q}^{(y_{ij}, \\alpha_{ju})}_{q_{ju}, \\ \\omega^{(1)}_{i,j,u}} , \\quad \\quad \\quad \\forall \\ i \\in I, \\ (j,u) \\in \\mathcal{V} \\ \\ \\mbox{}$$ "
   ]
  },
  {
   "cell_type": "markdown",
   "id": "e2cbf7f8",
   "metadata": {},
   "source": [
    "6) $$\\mbox{Add} \\ \\ ((y_{ij}, \\alpha_{ju}), r_{ju}, \\omega^{(2)}_{i,j,u}) \\in \\mathcal{Q}^{(y_{ij}, \\alpha_{ju})}_{r_{ju}, \\ \\omega^{(2)}_{i,j,u}} , \\quad \\quad \\quad \\forall \\ i \\in I, \\ (j,u) \\in \\mathcal{V} \\ \\ \\mbox{}$$"
   ]
  },
  {
   "cell_type": "markdown",
   "id": "2f6b74b5",
   "metadata": {},
   "source": [
    "7) $$\\mbox{Add} \\ \\ ((y_{ij}, \\alpha_{ju}), v_{ju}, \\omega^{(3)}_{i,j,u}) \\in \\mathcal{Q}^{(y_{ij}, \\alpha_{ju})}_{v_{ju}, \\ \\omega^{(3)}_{i,j,u}} , \\quad \\quad \\quad \\forall \\ i \\in I, \\ (j,u) \\in \\mathcal{V} \\ \\ \\mbox{}$$"
   ]
  },
  {
   "cell_type": "code",
   "execution_count": 91,
   "id": "92646c1f",
   "metadata": {},
   "outputs": [],
   "source": [
    "# 1) \n",
    "McCormickEtaA=model.addConstrs(eta[U,j] <= y[i,j] for U in ListU for j in J for i in U)\n",
    "McCormickEtaB=model.addConstrs(eta[U,j] >= gp.quicksum(y[i,j] for i in U) - len(U) + 1 for U in ListU for j in J)\n",
    "# for U in ListU:\n",
    "#     if len(U)<3:\n",
    "#         for j in J:\n",
    "#             McCormickEtaB[U,j].Lazy=3\n",
    "#             for i in U:\n",
    "#                 McCormickEtaA[U,j,i].Lazy=3\n",
    "# for (U,j) in integratedUj:\n",
    "#     McCormickEtaA=model.addConstrs(eta[U,j] <= y[i,j] for i in U)\n",
    "#     McCormickEtaB=model.addConstr(eta[U,j] >= gp.quicksum(y[i,j] for i in U) - len(U) + 1)\n",
    "#     for i in U:\n",
    "#         McCormickEtaA[i].Lazy=2\n",
    "#     McCormickEtaB.Lazy=2\n",
    "# for run in range(LengthByUJump0[BarW-1], LengthByUJump0[BarW]):\n",
    "#     for j in J:\n",
    "#         McCormickEtaB[run,j].Lazy=3\n",
    "#         for t in range(BarW+2):\n",
    "#             if t<len(ListUJump2[run]):\n",
    "#                 McCormickEtaA[run,j,t].Lazy=3\n",
    "# model.update()\n",
    "# 2) \n",
    "#McCormickZeta1A=model.addConstrs(zeta1[U,j,u] <= M * y[i,j] for U in ListU for j in J for u in range(1,BarW+1) for i in U)\n",
    "#McCormickZeta1B=model.addConstrs(zeta1[U,j,u] >= qVar[j,u] - M * (len(U) - gp.quicksum(y[i,j] for i in U)) for U in ListU for j in J for u in range(1,BarW+1) if len(U)<=u+2)\n",
    "#McCormickZeta1C=model.addConstrs(zeta1[U,j,u] <= qVar[j,u] for U in ListU for j in J for u in range(1,BarW+1))\n",
    "# for U in ListU:\n",
    "#     for j in J:\n",
    "#         for u in range(1,BarW+1):\n",
    "#             if len(U)<=u+2:\n",
    "#                 for i in U:\n",
    "#                     McCormickZeta1A[U,j,u,i].Lazy=0\n",
    "#                 McCormickZeta1B[U,j,u].Lazy=0\n",
    "#                 McCormickZeta1C[U,j,u].Lazy=0\n",
    "# model.update()\n",
    "# 3) \n",
    "#McCormickZeta2A=model.addConstrs(zeta2[U,j,u] <= M * y[i,j] for U in ListU for j in J for u in range(1,BarW+1) for i in U if len(U)<=u)\n",
    "#McCormickZeta2B=model.addConstrs(zeta2[U,j,u] >= rVar[j,u] - M * (len(U) - gp.quicksum(y[i,j] for i in U)) for U in ListU for j in J for u in range(1,BarW+1) if len(U)<=u)\n",
    "#McCormickZeta2C=model.addConstrs(zeta2[U,j,u] <= rVar[j,u] for U in ListU for j in J for u in range(1,BarW+1) if len(U)<=u)\n",
    "# for U in ListU:\n",
    "#     if len(U)==3:\n",
    "#         for j in J:\n",
    "#             for u in range(len(U),BarW+1):\n",
    "# #                 for i in U:\n",
    "# #                     McCormickZeta2A[U,j,u,i].Lazy=0\n",
    "# #                 McCormickZeta2B[U,j,u].Lazy=0\n",
    "#                 McCormickZeta2C[U,j,u].Lazy=3\n",
    "# model.update()\n",
    "# 4) \n",
    "#McCormickZeta3A=model.addConstrs(zeta3[U,j,u] <= M * y[i,j] for U in ListU for j in J for u in range(1,BarW+1) for i in U)\n",
    "McCormickZeta3B=model.addConstrs(zeta3[U,j,u] >= vVar[j,u] - M * (len(U) - gp.quicksum(y[i,j] for i in U)) for U in ListU for j in J for u in range(1,BarW+1) if len(U) <=u+1)\n",
    "McCormickZeta3C=model.addConstrs(zeta3[U,j,u] <= vVar[j,u] for U in ListU for j in J for u in range(1,BarW+1))\n",
    "# for U in ListU:\n",
    "#     for j in J:\n",
    "#         for u in range(1,BarW+1):\n",
    "#             if len(U)<=u+1:\n",
    "#                 for i in U:\n",
    "#                     McCormickZeta3A[U,j,u,i].Lazy=0\n",
    "#                 McCormickZeta3B[U,j,u].Lazy=0\n",
    "#                 McCormickZeta3C[U,j,u].Lazy=0\n",
    "# model.update()\n",
    "# 5) \n",
    "# McCormickOmega1A=model.addConstrs(omega1[i,j,u] <= M * y[i,j] for i in I for j in J for u in range(1,BarW + 1))\n",
    "# McCormickOmega1B=model.addConstrs(omega1[i,j,u] <= M * alpha[j,u] for i in I for j in J for u in range(1,BarW + 1))\n",
    "#McCormickOmega1C=model.addConstrs(omega1[i,j,u] >= qVar[j,u] - M * (2-y[i,j] -  alpha[j,u]) for i in I for j in J for u in range(1,BarW + 1))\n",
    "# McCormickOmega1D=model.addConstrs(omega1[i,j,u] <= qVar[j,u] for i in I for j in J for u in range(1,BarW + 1))\n",
    "# for i in I:\n",
    "#     for j in J:\n",
    "#         for u in range(1,BarW + 1):\n",
    "# #           McCormickOmega1A[i,j,u].Lazy=0\n",
    "#             McCormickOmega1B[i,j,u].Lazy=3\n",
    "# #           McCormickOmega1C[i,j,u].Lazy=0\n",
    "#             McCormickOmega1D[i,j,u].Lazy=3\n",
    "# model.update()\n",
    "# 6) \n",
    "#McCormickOmega2A=model.addConstrs(omega2[i,j,u] <= M * y[i,j] for i in I for j in J for u in range(1,BarW+1))\n",
    "#McCormickOmega2B=model.addConstrs(omega2[i,j,u] <= M * alpha[j,u] for i in I for j in J for u in range(1,BarW+1))\n",
    "#McCormickOmega2C=model.addConstrs(omega2[i,j,u] >= rVar[j,u] - M * (2-y[i,j] -  alpha[j,u]) for i in I for j in J for u in range(1,BarW+1))\n",
    "#McCormickOmega2D=model.addConstrs(omega2[i,j,u] <= rVar[j,u] for i in I for j in J for u in range(1,BarW+1))\n",
    "#for i in I:\n",
    "#    for j in J:\n",
    "#        for u in range(1,BarW+1):\n",
    "#            McCormickOmega2A[i,j,u].Lazy=3\n",
    "#            McCormickOmega2B[i,j,u].Lazy=3\n",
    "#             McCormickOmega2C[i,j,u].Lazy=3\n",
    "#             McCormickOmega2D[i,j,u].Lazy=0\n",
    "# model.update()\n",
    "# 7) \n",
    "#McCormickOmega3A=model.addConstrs(omega3[i,j,u] <= M * y[i,j] for i in I for j in J for u in range(1,BarW + 1))\n",
    "#McCormickOmega3B=model.addConstrs(omega3[i,j,u] <= M * alpha[j,u] for i in I for j in J for u in range(1,BarW + 1))\n",
    "McCormickOmega3C=model.addConstrs(omega3[i,j,u] >= vVar[j,u] - M * (2-y[i,j] -  alpha[j,u]) for i in I for j in J for u in range(1,BarW + 1))\n",
    "McCormickOmega3D=model.addConstrs(omega3[i,j,u] <= vVar[j,u] for i in I for j in J for u in range(1,BarW + 1))\n",
    "# for i in I:\n",
    "#     for j in J:\n",
    "#         for u in range(1,BarW + 1):\n",
    "# #           McCormickOmega3A[i,j,u].Lazy=0\n",
    "#             McCormickOmega3B[i,j,u].Lazy=3\n",
    "# #           McCormickOmega3C[i,j,u].Lazy=0\n",
    "#             McCormickOmega3D[i,j,u].Lazy=3\n",
    "model.update()"
   ]
  },
  {
   "cell_type": "markdown",
   "id": "d827c8ed",
   "metadata": {},
   "source": [
    "$$\\mbox{Define a callback function to add valid inequalities with nested structure}$$"
   ]
  },
  {
   "cell_type": "code",
   "execution_count": 92,
   "id": "d76e4bde",
   "metadata": {},
   "outputs": [],
   "source": [
    "# for j in J:\n",
    "#     for r in range(1,BarW):\n",
    "#         for U in list(itertools.combinations(I,r)):\n",
    "#             setU = set(U)\n",
    "#             for t in set(I).difference(setU):\n",
    "#                 Uprime=tuple(sorted(set(tuple(set(U))+(t,))))\n",
    "#                 cbEtaUp=model.addConstr(eta[U,j] >= eta[Uprime,j])\n",
    "#                 cbEtaDown=model.addConstr(eta[U,j] - eta[Uprime,j] <= 1 - y[t,j])\n",
    "#                 cbEtaUp.Lazy=3\n",
    "#                 cbEtaDown.Lazy=3\n",
    "# for j in J:\n",
    "#     for u in range(2,BarW + 1):    \n",
    "#         for r in range(1,u):\n",
    "#             for U in list(itertools.combinations(I,r)):\n",
    "#                 for t in set(I).difference(setU):\n",
    "#                     Uprime=tuple(sorted(set(tuple(set(U))+(t,))))\n",
    "#                     cbZeta2Up=model.addConstr(zeta2[U,j,u] >= zeta2[Uprime,j,u])\n",
    "#                     cbZeta2Down=model.addConstr(zeta2[U,j,u] - zeta2[Uprime,j,u] <= rVar[j,u] - zeta2[(t,),j,u])\n",
    "#                     cbZeta2Up.Lazy=3\n",
    "#                     cbZeta2Down.Lazy=3        "
   ]
  },
  {
   "cell_type": "code",
   "execution_count": 93,
   "id": "91f9bd12",
   "metadata": {},
   "outputs": [],
   "source": [
    "# for j in J:\n",
    "#     for k in range(1,BarW):\n",
    "#         for runL in range(LengthByUJump0[BarW-1]+LengthRJump[k-1], LengthByUJump0[BarW-1]+LengthRJump[k]):\n",
    "#             countnested=0\n",
    "#             S_k=set(ListUJump0[runL])\n",
    "#             for runU in range(LengthByUJump0[BarW-1]+LengthRJump[k], LengthByUJump0[BarW-1]+LengthRJump[k+1]):\n",
    "#                 S_kPlus1=set(ListUJump0[runU])\n",
    "#                 if S_k.issubset(S_kPlus1)==True:\n",
    "#                     countnested=countnested+1\n",
    "#                     i=list(S_kPlus1.difference(S_k))[0]\n",
    "#                     a=model.addConstr(eta[runL-LengthByUJump0[BarW-1],j] >= eta[runU-LengthByUJump0[BarW-1],j])\n",
    "#                     b=model.addConstr(eta[runL-LengthByUJump0[BarW-1],j] - eta[runU-LengthByUJump0[BarW-1],j] <= 1 - y[i,j])\n",
    "#                     a.Lazy=3\n",
    "#                     b.Lazy=3\n",
    "#                     if countnested==m-k:\n",
    "#                         break\n",
    "# for j in J:\n",
    "#     for u in range(2,BarW + 1):    \n",
    "#         for k in range(1,u):\n",
    "#             for runL in range(LengthByUJump0[u-1]+LengthRJump[k-1], LengthByUJump0[u-1]+LengthRJump[k]):\n",
    "#                 countnested=0\n",
    "#                 S_k=set(ListUJump0[runL])\n",
    "#                 for runU in range(LengthByUJump0[u-1]+LengthRJump[k], LengthByUJump0[u-1]+LengthRJump[k+1]):\n",
    "#                     S_kPlus1=set(ListUJump0[runU])\n",
    "#                     if S_k.issubset(S_kPlus1)==True:\n",
    "#                         countnested=countnested+1\n",
    "#                         i=list(set(S_kPlus1).difference(set(S_k)))[0]\n",
    "#                         a=model.addConstr(zeta2[runL,j] >= zeta2[runU,j])\n",
    "#                         b=model.addConstr(zeta2[runL,j] - zeta2[runU,j] <= rVar[j,u] - zeta2[LengthByUJump0[u-1]+i,j])\n",
    "#                         a.Lazy=3\n",
    "#                         b.Lazy=3\n",
    "#                         if countnested==m-k:\n",
    "#                             break"
   ]
  },
  {
   "cell_type": "code",
   "execution_count": 94,
   "id": "80bc1924",
   "metadata": {},
   "outputs": [],
   "source": [
    "def mycallback(model, where):\n",
    "#     if where == GRB.Callback.MIPNODE:\n",
    "    if where == GRB.Callback.MIPSOL:\n",
    "#         status = model.cbGet(GRB.Callback.MIPNODE_STATUS)\n",
    "#         if status == GRB.OPTIMAL:\n",
    "        if model.cbGet(GRB.Callback.MIPSOL_NODCNT) == 0:\n",
    "            rel_y = model.cbGetNodeRel(y)\n",
    "            rel_eta = model.cbGetNodeRel(eta)\n",
    "#            rel_q = model.cbGetNodeRel(qVar)\n",
    "#            rel_r = model.cbGetNodeRel(rVar)\n",
    "            rel_v = model.cbGetNodeRel(vVar)\n",
    "#            rel_zeta1 = model.cbGetNodeRel(zeta1)\n",
    "#            rel_zeta2 = model.cbGetNodeRel(zeta2)\n",
    "            rel_zeta3 = model.cbGetNodeRel(zeta3)\n",
    "#            rel_omega1 = model.cbGetNodeRel(omega1)\n",
    "#            rel_omega2 = model.cbGetNodeRel(omega2)\n",
    "            rel_omega3 = model.cbGetNodeRel(omega3)\n",
    "            rel_alpha = model.cbGetNodeRel(alpha)\n",
    "            for j in J:\n",
    "                for r in range(1,2):\n",
    "                    for U in list(itertools.combinations(I,r)):\n",
    "                        setU = set(U)\n",
    "                        for t in set(I).difference(setU):\n",
    "                            Uprime=tuple(sorted(set(tuple(set(U))+(t,))))\n",
    "                            if rel_eta[U,j] < rel_eta[Uprime,j]:\n",
    "                                model.cbCut(eta[U,j] >= eta[Uprime,j])\n",
    "                            if rel_eta[U,j] - rel_eta[Uprime,j] > 1 - rel_y[t,j]:\n",
    "                                model.cbCut(eta[U,j] - eta[Uprime,j] <= 1 - y[t,j])\n",
    "#             for j in J:\n",
    "#                 for u in range(1,BarW + 1):    \n",
    "#                     for r in range(1,u+2):\n",
    "#                         for U in list(itertools.combinations(I,r)):\n",
    "#                             for t in set(I).difference(setU):\n",
    "#                                 Uprime=tuple(sorted(set(tuple(set(U))+(t,))))\n",
    "#                                 if rel_zeta1[U,j,u] < rel_zeta1[Uprime,j,u]:\n",
    "#                                     model.cbCut(zeta1[U,j,u] >= zeta1[Uprime,j,u])\n",
    "#                                 if rel_zeta1[U,j,u] - rel_zeta1[Uprime,j,u] > rel_q[j,u] - rel_zeta1[(t,),j,u]:\n",
    "#                                     model.cbCut(zeta1[U,j,u] - zeta1[Uprime,j,u] <= qVar[j,u] - zeta1[(t,),j,u])\n",
    "#            for j in J:\n",
    "#                for u in range(2,3):    \n",
    "#                    for r in range(1,u):\n",
    "#                        for U in list(itertools.combinations(I,r)):\n",
    "#                            for t in set(I).difference(setU):\n",
    "#                                Uprime=tuple(sorted(set(tuple(set(U))+(t,))))\n",
    "#                                if rel_zeta2[U,j,u] < rel_zeta2[Uprime,j,u]:\n",
    "#                                    model.cbCut(zeta2[U,j,u] >= zeta2[Uprime,j,u])\n",
    "#                                if rel_zeta2[U,j,u] - rel_zeta2[Uprime,j,u] > rel_r[j,u] - rel_zeta2[(t,),j,u]:\n",
    "#                                    model.cbCut(zeta2[U,j,u] - zeta2[Uprime,j,u] <= rVar[j,u] - zeta2[(t,),j,u])\n",
    "            for j in J:\n",
    "                for u in range(1,2):    \n",
    "                    for r in range(1,u+1):\n",
    "                        for U in list(itertools.combinations(I,r)):\n",
    "                            for t in set(I).difference(setU):\n",
    "                                Uprime=tuple(sorted(set(tuple(set(U))+(t,))))\n",
    "                                if rel_zeta3[U,j,u] < rel_zeta3[Uprime,j,u]:\n",
    "                                     model.cbCut(zeta3[U,j,u] >= zeta3[Uprime,j,u])\n",
    "                                if rel_zeta3[U,j,u] - rel_zeta3[Uprime,j,u] > rel_v[j,u] - rel_zeta3[(t,),j,u]:\n",
    "                                     model.cbCut(zeta3[U,j,u] - zeta3[Uprime,j,u] <= vVar[j,u] - zeta3[(t,),j,u])\n"
   ]
  },
  {
   "cell_type": "code",
   "execution_count": 95,
   "id": "fdba34b7",
   "metadata": {},
   "outputs": [],
   "source": [
    "# LazyEta1 = model.addConstrs(eta[U,j] >= eta[tuple(sorted(set(tuple(set(U))+(t,)))),j] for j in J for r in range(1,2) for U in list(itertools.combinations(I,r)) for t in set(I).difference(set(U)))\n",
    "# LazyEta2 = model.addConstrs(eta[U,j] - eta[tuple(sorted(set(tuple(set(U))+(t,)))),j] <= 1 - y[t,j] for j in J for r in range(1,2) for U in list(itertools.combinations(I,r)) for t in set(I).difference(set(U)))\n",
    "# for j in J:\n",
    "#     for r in range(1,2):\n",
    "#         for U in list(itertools.combinations(I,r)):\n",
    "#             for t in set(I).difference(set(U)):\n",
    "#                 LazyEta1[j,r,U,t].Lazy=3\n",
    "#                 LazyEta2[j,r,U,t].Lazy=3\n",
    "# LazyZeta21=model.addConstrs(zeta2[U,j,u] >= zeta2[tuple(sorted(set(tuple(set(U))+(t,)))),j,u] for j in J for u in range(2,3) for r in range(1,u) for U in list(itertools.combinations(I,r)) for t in set(I).difference(set(U)))\n",
    "# LazyZeta22=model.addConstrs(zeta2[U,j,u] - zeta2[tuple(sorted(set(tuple(set(U))+(t,)))),j,u] <= rVar[j,u] - zeta2[(t,),j,u] for j in J for u in range(2,3) for r in range(1,u) for U in list(itertools.combinations(I,r)) for t in set(I).difference(set(U)))\n",
    "# for j in J:\n",
    "#     for u in range(2,3):    \n",
    "#         for r in range(1,u):\n",
    "#             for U in list(itertools.combinations(I,r)):\n",
    "#                 for t in set(I).difference(set(U)):\n",
    "#                     LazyZeta21[j,u,r,U,t].Lazy=3\n",
    "#                     LazyZeta22[j,u,r,U,t].Lazy=3"
   ]
  },
  {
   "cell_type": "code",
   "execution_count": 96,
   "id": "93f4a853",
   "metadata": {},
   "outputs": [
    {
     "name": "stdout",
     "output_type": "stream",
     "text": [
      "Set parameter NumericFocus to value 3\n",
      "Set parameter TimeLimit to value 3600\n",
      "Set parameter PreCrush to value 1\n"
     ]
    }
   ],
   "source": [
    "model.setParam('NumericFocus', 3)\n",
    "model.setParam(GRB.Param.TimeLimit, 3600 * 1)\n",
    "#model.setParam(GRB.Param.Threads, 1)\n",
    "model.setParam(GRB.Param.PreCrush, 1)\n",
    "# model.setParam('Method', 4)\n",
    "# model.params.BarHomogeneous = 1\n",
    "# model.Params.Presolve = 2\n",
    "# model.Params.PresolveTol = 1e-6\n",
    "# model.Params.PresolveLinear = 1  \n",
    "# model.Params.PresolveQuadratic = 0\n",
    "# model.Params.Threads = 8 "
   ]
  },
  {
   "cell_type": "code",
   "execution_count": 97,
   "id": "7a6d4344",
   "metadata": {},
   "outputs": [],
   "source": [
    "# model.Params.LazyConstraints = 1"
   ]
  },
  {
   "cell_type": "code",
   "execution_count": 98,
   "id": "c7759a40",
   "metadata": {
    "scrolled": true
   },
   "outputs": [
    {
     "name": "stdout",
     "output_type": "stream",
     "text": [
      "Gurobi Optimizer version 12.0.2 build v12.0.2rc0 (win64 - Windows 11.0 (26100.2))\n",
      "\n",
      "CPU model: 11th Gen Intel(R) Core(TM) i5-1135G7 @ 2.40GHz, instruction set [SSE2|AVX|AVX2|AVX512]\n",
      "Thread count: 4 physical cores, 8 logical processors, using up to 8 threads\n",
      "\n",
      "Non-default parameters:\n",
      "TimeLimit  3600\n",
      "NumericFocus  3\n",
      "PreCrush  1\n",
      "\n",
      "Academic license 2471257 - for non-commercial use only - registered to ho___@gwu.edu\n",
      "Optimize a model with 178888 rows, 77785 columns and 586830 nonzeros\n",
      "Model fingerprint: 0xe748e17a\n",
      "Variable types: 77265 continuous, 520 integer (520 binary)\n",
      "Coefficient statistics:\n",
      "  Matrix range     [3e-06, 5e+05]\n",
      "  Objective range  [1e-05, 1e-01]\n",
      "  Bounds range     [1e+00, 5e+05]\n",
      "  RHS range        [1e+00, 1e+06]\n",
      "Presolve removed 1010 rows and 1010 columns\n",
      "Presolve time: 3.63s\n",
      "Presolved: 177878 rows, 76775 columns, 660045 nonzeros\n",
      "Extracted 6 lazy constraints\n",
      "Variable types: 76260 continuous, 515 integer (515 binary)\n",
      "\n",
      "Deterministic concurrent LP optimizer: primal simplex, dual simplex, and barrier\n",
      "Showing barrier log only...\n",
      "\n",
      "Root relaxation presolved: 177872 rows, 76775 columns, 659535 nonzeros\n",
      "\n",
      "Root barrier log...\n",
      "\n",
      "Ordering time: 0.42s\n",
      "\n",
      "Barrier statistics:\n",
      " Dense cols : 515\n",
      " AA' NZ     : 8.085e+05\n",
      " Factor NZ  : 1.467e+06 (roughly 120 MB of memory)\n",
      " Factor Ops : 7.881e+07 (less than 1 second per iteration)\n",
      " Threads    : 2\n",
      "\n",
      "                  Objective                Residual\n",
      "Iter       Primal          Dual         Primal    Dual     Compl     Time\n",
      "   0   2.92886122e+07 -5.03329677e+10  3.97e+07 0.00e+00  3.45e+08     7s\n",
      "   1   1.60625001e+07 -4.40172222e+10  2.01e+07 2.52e+01  1.53e+08     8s\n",
      "   2   9.19843568e+06 -3.78785064e+10  1.08e+07 6.32e-08  8.28e+07     9s\n",
      "   3   3.24031249e+06 -2.14535655e+10  1.67e+06 1.13e-07  1.45e+07    10s\n",
      "   4   2.34139417e+06 -4.62880525e+09  3.61e+05 3.28e-08  2.75e+06    11s\n",
      "   5   2.20570791e+06 -1.66996133e+09  2.32e+05 1.03e-07  1.44e+06    11s\n",
      "   6   2.03176004e+06 -9.44670175e+08  1.41e+05 2.28e-08  8.33e+05    12s\n",
      "   7   1.44874418e+06 -7.37131171e+08  1.46e+04 3.07e-08  2.08e+05    12s\n",
      "   8   9.75854228e+05 -1.80930841e+08  1.64e+03 3.14e-08  4.14e+04    13s\n",
      "   9   1.34473195e+05 -2.20481643e+07  2.00e+02 9.83e-09  4.98e+03    13s\n",
      "  10   1.35811415e+04 -3.46966315e+06  1.99e+01 1.46e-09  7.26e+02    14s\n",
      "  11   1.37595767e+03 -4.25041162e+05  1.97e+00 4.02e-10  8.41e+01    15s\n",
      "  12   1.37757068e+02 -4.34196265e+04  1.97e-01 6.24e-11  8.44e+00    15s\n",
      "  13   1.39234313e+01 -4.34982204e+03  1.97e-02 5.41e-12  8.43e-01    16s\n",
      "  14   1.54002725e+00 -4.41559915e+02  1.97e-03 9.22e-13  8.56e-02    16s\n",
      "  15   3.01263121e-01 -4.76895517e+01  1.95e-04 1.02e-13  9.27e-03    18s\n",
      "\n",
      "Barrier performed 15 iterations in 17.71 seconds (7.31 work units)\n",
      "Barrier solve interrupted - model solved by another algorithm\n",
      "\n",
      "Concurrent spin time: 6.63s (can be avoided by choosing Method=3)\n",
      "\n",
      "Solved with dual simplex\n",
      "\n",
      "Root relaxation: objective 5.376845e-02, 2450 iterations, 13.05 seconds (3.75 work units)\n",
      "\n",
      "    Nodes    |    Current Node    |     Objective Bounds      |     Work\n",
      " Expl Unexpl |  Obj  Depth IntInf | Incumbent    BestBd   Gap | It/Node Time\n",
      "\n",
      "     0     0    0.05377    0    4          -    0.05377      -     -   17s\n",
      "     0     2    0.05377    0    4          -    0.05377      -     -   70s\n",
      "     1     2    0.05519    1    2          -    0.05377      -   676   75s\n",
      "     3     4    0.05600    2    2          -    0.05377      -   331   80s\n",
      "*    4     3               1       0.0545582    0.05456  0.00%   340   80s\n",
      "\n",
      "Cutting planes:\n",
      "  Lazy constraints: 2\n",
      "\n",
      "Explored 6 nodes (4328 simplex iterations) in 80.97 seconds (92.29 work units)\n",
      "Thread count was 8 (of 8 available processors)\n",
      "\n",
      "Solution count 1: 0.0545582 \n",
      "\n",
      "Optimal solution found (tolerance 1.00e-04)\n",
      "Best objective 5.455818215877e-02, best bound 5.455818215877e-02, gap 0.0000%\n",
      "\n",
      "User-callback calls 11224, time in user-callback 0.13 sec\n"
     ]
    }
   ],
   "source": [
    "model.optimize(mycallback)"
   ]
  },
  {
   "cell_type": "code",
   "execution_count": 99,
   "id": "10b12d69",
   "metadata": {},
   "outputs": [],
   "source": [
    "# Val_X=[]\n",
    "# for var in x:\n",
    "#     Val_X.append(int(x[var].X))\n",
    "# Val_Y=np.zeros(shape=(m,n))\n",
    "# for var in y:\n",
    "#     i=var[0]\n",
    "#     j=var[1]\n",
    "#     Val_Y[i,j]=int(round(y[var].X,1))\n",
    "# Val_alpha=np.zeros(shape=(n, BarW + 1))\n",
    "# for var in alpha:\n",
    "#     j=var[0]\n",
    "#     u=var[1]\n",
    "#     if u > 0:\n",
    "#         Val_alpha[j,u]=int(round(alpha[var].X,1))\n",
    "# Val_omega2=np.zeros(shape=(m,n,BarW+1))\n",
    "# for var in omega2:\n",
    "#     i=var[0]\n",
    "#     j=var[1]\n",
    "#     u=var[2]\n",
    "#     if u > 0:\n",
    "#         Val_omega2[j,u]=omega2[var].X"
   ]
  },
  {
   "cell_type": "code",
   "execution_count": 100,
   "id": "6f933b9b",
   "metadata": {},
   "outputs": [
    {
     "data": {
      "text/html": [
       "<div>\n",
       "<style scoped>\n",
       "    .dataframe tbody tr th:only-of-type {\n",
       "        vertical-align: middle;\n",
       "    }\n",
       "\n",
       "    .dataframe tbody tr th {\n",
       "        vertical-align: top;\n",
       "    }\n",
       "\n",
       "    .dataframe thead th {\n",
       "        text-align: right;\n",
       "    }\n",
       "</style>\n",
       "<table border=\"1\" class=\"dataframe\">\n",
       "  <thead>\n",
       "    <tr style=\"text-align: right;\">\n",
       "      <th></th>\n",
       "      <th>id_bases</th>\n",
       "      <th>type</th>\n",
       "      <th>street</th>\n",
       "      <th>latitude</th>\n",
       "      <th>longitude</th>\n",
       "      <th>x_bases</th>\n",
       "      <th>y_bases</th>\n",
       "      <th>z_bases</th>\n",
       "    </tr>\n",
       "  </thead>\n",
       "  <tbody>\n",
       "    <tr>\n",
       "      <th>0</th>\n",
       "      <td>1</td>\n",
       "      <td>Fire Station</td>\n",
       "      <td>1468 NIMMO PKWY</td>\n",
       "      <td>36.764154</td>\n",
       "      <td>-76.023000</td>\n",
       "      <td>1234.10032</td>\n",
       "      <td>-4958.35519</td>\n",
       "      <td>3817.28814</td>\n",
       "    </tr>\n",
       "    <tr>\n",
       "      <th>1</th>\n",
       "      <td>17</td>\n",
       "      <td>Fire Station</td>\n",
       "      <td>595 PRINCESS ANNE RD</td>\n",
       "      <td>36.603012</td>\n",
       "      <td>-76.026976</td>\n",
       "      <td>1236.38530</td>\n",
       "      <td>-4968.77418</td>\n",
       "      <td>3802.97488</td>\n",
       "    </tr>\n",
       "    <tr>\n",
       "      <th>2</th>\n",
       "      <td>7</td>\n",
       "      <td>Fire Station</td>\n",
       "      <td>6009 BLACKWATER RD</td>\n",
       "      <td>36.584900</td>\n",
       "      <td>-76.082865</td>\n",
       "      <td>1231.78363</td>\n",
       "      <td>-4971.19052</td>\n",
       "      <td>3801.31002</td>\n",
       "    </tr>\n",
       "    <tr>\n",
       "      <th>3</th>\n",
       "      <td>4</td>\n",
       "      <td>Fire Station</td>\n",
       "      <td>5656 PROVIDENCE RD</td>\n",
       "      <td>36.813926</td>\n",
       "      <td>-76.192077</td>\n",
       "      <td>1218.70816</td>\n",
       "      <td>-4958.71642</td>\n",
       "      <td>3821.76123</td>\n",
       "    </tr>\n",
       "    <tr>\n",
       "      <th>4</th>\n",
       "      <td>6</td>\n",
       "      <td>Fire Station</td>\n",
       "      <td>949 S BIRDNECK RD</td>\n",
       "      <td>36.810987</td>\n",
       "      <td>-75.992934</td>\n",
       "      <td>1235.98553</td>\n",
       "      <td>-4954.66183</td>\n",
       "      <td>3821.47132</td>\n",
       "    </tr>\n",
       "  </tbody>\n",
       "</table>\n",
       "</div>"
      ],
      "text/plain": [
       "   id_bases          type                street   latitude  longitude  \\\n",
       "0         1  Fire Station       1468 NIMMO PKWY  36.764154 -76.023000   \n",
       "1        17  Fire Station  595 PRINCESS ANNE RD  36.603012 -76.026976   \n",
       "2         7  Fire Station    6009 BLACKWATER RD  36.584900 -76.082865   \n",
       "3         4  Fire Station    5656 PROVIDENCE RD  36.813926 -76.192077   \n",
       "4         6  Fire Station     949 S BIRDNECK RD  36.810987 -75.992934   \n",
       "\n",
       "      x_bases     y_bases     z_bases  \n",
       "0  1234.10032 -4958.35519  3817.28814  \n",
       "1  1236.38530 -4968.77418  3802.97488  \n",
       "2  1231.78363 -4971.19052  3801.31002  \n",
       "3  1218.70816 -4958.71642  3821.76123  \n",
       "4  1235.98553 -4954.66183  3821.47132  "
      ]
     },
     "execution_count": 100,
     "metadata": {},
     "output_type": "execute_result"
    }
   ],
   "source": [
    "facility"
   ]
  },
  {
   "cell_type": "code",
   "execution_count": 101,
   "id": "74919d33",
   "metadata": {},
   "outputs": [
    {
     "data": {
      "text/html": [
       "<div>\n",
       "<style scoped>\n",
       "    .dataframe tbody tr th:only-of-type {\n",
       "        vertical-align: middle;\n",
       "    }\n",
       "\n",
       "    .dataframe tbody tr th {\n",
       "        vertical-align: top;\n",
       "    }\n",
       "\n",
       "    .dataframe thead th {\n",
       "        text-align: right;\n",
       "    }\n",
       "</style>\n",
       "<table border=\"1\" class=\"dataframe\">\n",
       "  <thead>\n",
       "    <tr style=\"text-align: right;\">\n",
       "      <th></th>\n",
       "      <th>id_ohca</th>\n",
       "      <th>receivedtime</th>\n",
       "      <th>minimumresponsetime</th>\n",
       "      <th>latitude</th>\n",
       "      <th>longitude</th>\n",
       "      <th>incident_location</th>\n",
       "      <th>x_ohca</th>\n",
       "      <th>y_ohca</th>\n",
       "      <th>z_ohca</th>\n",
       "      <th>demand_year</th>\n",
       "      <th>demand_month</th>\n",
       "      <th>mon_yr</th>\n",
       "      <th>qrt_yr</th>\n",
       "      <th>occurence</th>\n",
       "    </tr>\n",
       "  </thead>\n",
       "  <tbody>\n",
       "    <tr>\n",
       "      <th>0</th>\n",
       "      <td>393</td>\n",
       "      <td>2019-04-25 22:56:00</td>\n",
       "      <td>8.933333</td>\n",
       "      <td>36.801767</td>\n",
       "      <td>-76.077191</td>\n",
       "      <td>3200 SCARBOROUGH WAY</td>\n",
       "      <td>1228.841526</td>\n",
       "      <td>-4957.055033</td>\n",
       "      <td>3820.671575</td>\n",
       "      <td>2019</td>\n",
       "      <td>4</td>\n",
       "      <td>2019-04</td>\n",
       "      <td>2019-2</td>\n",
       "      <td>1</td>\n",
       "    </tr>\n",
       "    <tr>\n",
       "      <th>1</th>\n",
       "      <td>450</td>\n",
       "      <td>2018-07-05 18:48:00</td>\n",
       "      <td>12.066667</td>\n",
       "      <td>36.833051</td>\n",
       "      <td>-75.970992</td>\n",
       "      <td>400 ATLANTIC AV</td>\n",
       "      <td>1237.521526</td>\n",
       "      <td>-4952.744165</td>\n",
       "      <td>3823.459445</td>\n",
       "      <td>2018</td>\n",
       "      <td>7</td>\n",
       "      <td>2018-07</td>\n",
       "      <td>2018-3</td>\n",
       "      <td>1</td>\n",
       "    </tr>\n",
       "    <tr>\n",
       "      <th>2</th>\n",
       "      <td>671</td>\n",
       "      <td>2019-05-18 11:58:00</td>\n",
       "      <td>0.000000</td>\n",
       "      <td>36.809603</td>\n",
       "      <td>-76.199786</td>\n",
       "      <td>5900 INDIAN RIVER RD</td>\n",
       "      <td>1218.107522</td>\n",
       "      <td>-4959.165518</td>\n",
       "      <td>3821.369986</td>\n",
       "      <td>2019</td>\n",
       "      <td>5</td>\n",
       "      <td>2019-05</td>\n",
       "      <td>2019-2</td>\n",
       "      <td>1</td>\n",
       "    </tr>\n",
       "    <tr>\n",
       "      <th>3</th>\n",
       "      <td>274</td>\n",
       "      <td>2018-10-20 08:43:00</td>\n",
       "      <td>0.000000</td>\n",
       "      <td>36.772649</td>\n",
       "      <td>-76.036235</td>\n",
       "      <td>2300 WALLINGTON WAY</td>\n",
       "      <td>1232.852992</td>\n",
       "      <td>-4958.059065</td>\n",
       "      <td>3818.075704</td>\n",
       "      <td>2018</td>\n",
       "      <td>10</td>\n",
       "      <td>2018-10</td>\n",
       "      <td>2018-4</td>\n",
       "      <td>1</td>\n",
       "    </tr>\n",
       "    <tr>\n",
       "      <th>4</th>\n",
       "      <td>38</td>\n",
       "      <td>2019-01-01 18:53:00</td>\n",
       "      <td>0.000000</td>\n",
       "      <td>36.808763</td>\n",
       "      <td>-76.203283</td>\n",
       "      <td>1000 BRYCE LA</td>\n",
       "      <td>1217.818201</td>\n",
       "      <td>-4959.294263</td>\n",
       "      <td>3821.295121</td>\n",
       "      <td>2019</td>\n",
       "      <td>1</td>\n",
       "      <td>2019-01</td>\n",
       "      <td>2019-1</td>\n",
       "      <td>1</td>\n",
       "    </tr>\n",
       "    <tr>\n",
       "      <th>...</th>\n",
       "      <td>...</td>\n",
       "      <td>...</td>\n",
       "      <td>...</td>\n",
       "      <td>...</td>\n",
       "      <td>...</td>\n",
       "      <td>...</td>\n",
       "      <td>...</td>\n",
       "      <td>...</td>\n",
       "      <td>...</td>\n",
       "      <td>...</td>\n",
       "      <td>...</td>\n",
       "      <td>...</td>\n",
       "      <td>...</td>\n",
       "      <td>...</td>\n",
       "    </tr>\n",
       "    <tr>\n",
       "      <th>95</th>\n",
       "      <td>390</td>\n",
       "      <td>2019-04-02 00:12:00</td>\n",
       "      <td>0.000000</td>\n",
       "      <td>36.792380</td>\n",
       "      <td>-76.080698</td>\n",
       "      <td>3200 HOLLAND RD</td>\n",
       "      <td>1228.688672</td>\n",
       "      <td>-4957.737758</td>\n",
       "      <td>3819.834831</td>\n",
       "      <td>2019</td>\n",
       "      <td>4</td>\n",
       "      <td>2019-04</td>\n",
       "      <td>2019-2</td>\n",
       "      <td>1</td>\n",
       "    </tr>\n",
       "    <tr>\n",
       "      <th>96</th>\n",
       "      <td>634</td>\n",
       "      <td>2018-11-25 01:49:00</td>\n",
       "      <td>0.000000</td>\n",
       "      <td>36.771198</td>\n",
       "      <td>-76.185797</td>\n",
       "      <td>5600 FREEWILL LA</td>\n",
       "      <td>1219.929628</td>\n",
       "      <td>-4961.354241</td>\n",
       "      <td>3817.946321</td>\n",
       "      <td>2018</td>\n",
       "      <td>11</td>\n",
       "      <td>2018-11</td>\n",
       "      <td>2018-4</td>\n",
       "      <td>1</td>\n",
       "    </tr>\n",
       "    <tr>\n",
       "      <th>97</th>\n",
       "      <td>761</td>\n",
       "      <td>2018-09-09 02:39:00</td>\n",
       "      <td>4.966667</td>\n",
       "      <td>36.806447</td>\n",
       "      <td>-76.141340</td>\n",
       "      <td>900 DUNHILL DR</td>\n",
       "      <td>1223.216026</td>\n",
       "      <td>-4958.124736</td>\n",
       "      <td>3821.088705</td>\n",
       "      <td>2018</td>\n",
       "      <td>9</td>\n",
       "      <td>2018-09</td>\n",
       "      <td>2018-3</td>\n",
       "      <td>2</td>\n",
       "    </tr>\n",
       "    <tr>\n",
       "      <th>98</th>\n",
       "      <td>137</td>\n",
       "      <td>2019-01-12 13:44:00</td>\n",
       "      <td>10.366667</td>\n",
       "      <td>36.792097</td>\n",
       "      <td>-76.004683</td>\n",
       "      <td>1400 DOVE DR</td>\n",
       "      <td>1235.269642</td>\n",
       "      <td>-4956.121587</td>\n",
       "      <td>3819.809603</td>\n",
       "      <td>2019</td>\n",
       "      <td>1</td>\n",
       "      <td>2019-01</td>\n",
       "      <td>2019-1</td>\n",
       "      <td>1</td>\n",
       "    </tr>\n",
       "    <tr>\n",
       "      <th>99</th>\n",
       "      <td>723</td>\n",
       "      <td>2018-12-08 10:59:00</td>\n",
       "      <td>0.000000</td>\n",
       "      <td>36.815978</td>\n",
       "      <td>-76.115815</td>\n",
       "      <td>700 LINDEN CT</td>\n",
       "      <td>1225.272181</td>\n",
       "      <td>-4956.962172</td>\n",
       "      <td>3821.938128</td>\n",
       "      <td>2018</td>\n",
       "      <td>12</td>\n",
       "      <td>2018-12</td>\n",
       "      <td>2018-4</td>\n",
       "      <td>1</td>\n",
       "    </tr>\n",
       "  </tbody>\n",
       "</table>\n",
       "<p>100 rows × 14 columns</p>\n",
       "</div>"
      ],
      "text/plain": [
       "    id_ohca         receivedtime  minimumresponsetime   latitude  longitude  \\\n",
       "0       393  2019-04-25 22:56:00             8.933333  36.801767 -76.077191   \n",
       "1       450  2018-07-05 18:48:00            12.066667  36.833051 -75.970992   \n",
       "2       671  2019-05-18 11:58:00             0.000000  36.809603 -76.199786   \n",
       "3       274  2018-10-20 08:43:00             0.000000  36.772649 -76.036235   \n",
       "4        38  2019-01-01 18:53:00             0.000000  36.808763 -76.203283   \n",
       "..      ...                  ...                  ...        ...        ...   \n",
       "95      390  2019-04-02 00:12:00             0.000000  36.792380 -76.080698   \n",
       "96      634  2018-11-25 01:49:00             0.000000  36.771198 -76.185797   \n",
       "97      761  2018-09-09 02:39:00             4.966667  36.806447 -76.141340   \n",
       "98      137  2019-01-12 13:44:00            10.366667  36.792097 -76.004683   \n",
       "99      723  2018-12-08 10:59:00             0.000000  36.815978 -76.115815   \n",
       "\n",
       "       incident_location       x_ohca       y_ohca       z_ohca  demand_year  \\\n",
       "0   3200 SCARBOROUGH WAY  1228.841526 -4957.055033  3820.671575         2019   \n",
       "1        400 ATLANTIC AV  1237.521526 -4952.744165  3823.459445         2018   \n",
       "2   5900 INDIAN RIVER RD  1218.107522 -4959.165518  3821.369986         2019   \n",
       "3    2300 WALLINGTON WAY  1232.852992 -4958.059065  3818.075704         2018   \n",
       "4          1000 BRYCE LA  1217.818201 -4959.294263  3821.295121         2019   \n",
       "..                   ...          ...          ...          ...          ...   \n",
       "95       3200 HOLLAND RD  1228.688672 -4957.737758  3819.834831         2019   \n",
       "96      5600 FREEWILL LA  1219.929628 -4961.354241  3817.946321         2018   \n",
       "97        900 DUNHILL DR  1223.216026 -4958.124736  3821.088705         2018   \n",
       "98          1400 DOVE DR  1235.269642 -4956.121587  3819.809603         2019   \n",
       "99         700 LINDEN CT  1225.272181 -4956.962172  3821.938128         2018   \n",
       "\n",
       "    demand_month   mon_yr  qrt_yr  occurence  \n",
       "0              4  2019-04  2019-2          1  \n",
       "1              7  2018-07  2018-3          1  \n",
       "2              5  2019-05  2019-2          1  \n",
       "3             10  2018-10  2018-4          1  \n",
       "4              1  2019-01  2019-1          1  \n",
       "..           ...      ...     ...        ...  \n",
       "95             4  2019-04  2019-2          1  \n",
       "96            11  2018-11  2018-4          1  \n",
       "97             9  2018-09  2018-3          2  \n",
       "98             1  2019-01  2019-1          1  \n",
       "99            12  2018-12  2018-4          1  \n",
       "\n",
       "[100 rows x 14 columns]"
      ]
     },
     "execution_count": 101,
     "metadata": {},
     "output_type": "execute_result"
    }
   ],
   "source": [
    "customer_loc"
   ]
  },
  {
   "cell_type": "markdown",
   "id": "2b4a049d",
   "metadata": {},
   "source": [
    "# The Queuing Network Design Problem"
   ]
  },
  {
   "cell_type": "code",
   "execution_count": 102,
   "id": "5c3d93b7",
   "metadata": {},
   "outputs": [],
   "source": [
    "# print(\"There are \", n , \" candidates facility locations, \", m , \" customer locations. The total number of drones is \", BarT , \" and the maximum capacity at each facility location is \", BarW , \"\")  "
   ]
  },
  {
   "cell_type": "markdown",
   "id": "3a5e4156",
   "metadata": {},
   "source": [
    "# The optimal location-allocation strategy is solved and given as follows :"
   ]
  },
  {
   "cell_type": "markdown",
   "id": "40d0fb38",
   "metadata": {},
   "source": [
    "# Optimal location"
   ]
  },
  {
   "cell_type": "code",
   "execution_count": 103,
   "id": "2e61305d",
   "metadata": {},
   "outputs": [],
   "source": [
    "# print(\"Set up drone bases at the following locations \", end = '')\n",
    "# for j in J:\n",
    "#     if Val_X[j] == 1:\n",
    "#         print(j+1 , \",\" , end = '')"
   ]
  },
  {
   "cell_type": "markdown",
   "id": "9164c69e",
   "metadata": {},
   "source": [
    "# Optimal allocation"
   ]
  },
  {
   "cell_type": "code",
   "execution_count": 104,
   "id": "85978caa",
   "metadata": {},
   "outputs": [],
   "source": [
    "# for j in J:\n",
    "#     print(\"Facility location \", j+1 , \"support the following customers locations :\" , end='')\n",
    "#     for i in I:\n",
    "#         if Val_Y[i,j]==1:\n",
    "#             print(i+1 , \",\" , end='')\n",
    "#     print()\n",
    "#     print()"
   ]
  },
  {
   "cell_type": "markdown",
   "id": "62c12e48",
   "metadata": {},
   "source": [
    "# Optimal Capacity"
   ]
  },
  {
   "cell_type": "code",
   "execution_count": 105,
   "id": "7ca30e2c",
   "metadata": {},
   "outputs": [],
   "source": [
    "# Val_W=np.zeros(n)\n",
    "# for j in J:\n",
    "#     for u in range(BarW+1):\n",
    "#         if Val_alpha[j,u]==1:\n",
    "#             Val_W[j]=u\n",
    "#             print(\"Capacity (number of drones) at Facility Location \" +str(j+1)+ \" is\" ,u)\n",
    "# print(\"Total number of drones is\", BarT)"
   ]
  },
  {
   "cell_type": "markdown",
   "id": "81db40ce",
   "metadata": {},
   "source": [
    "# Optimal Average Response Time"
   ]
  },
  {
   "cell_type": "code",
   "execution_count": 106,
   "id": "bfb9f82a",
   "metadata": {},
   "outputs": [
    {
     "name": "stdout",
     "output_type": "stream",
     "text": [
      "The loading constraints time using both analytical - inductive method is : 89.90616178512573  seconds\n"
     ]
    }
   ],
   "source": [
    "# optimal_value = model.objVal\n",
    "# print(\"Optimal Average Response Time of the Network is \", optimal_value * 60, \"mins\")\n",
    "end_time = time.time()\n",
    "# Calculate the loading constraints time\n",
    "loading_time = end_time - start_time\n",
    "print(\"The loading constraints time using both analytical - inductive method is :\", loading_time, \" seconds\")"
   ]
  }
 ],
 "metadata": {
  "kernelspec": {
   "display_name": "Python 3 (ipykernel)",
   "language": "python",
   "name": "python3"
  },
  "language_info": {
   "codemirror_mode": {
    "name": "ipython",
    "version": 3
   },
   "file_extension": ".py",
   "mimetype": "text/x-python",
   "name": "python",
   "nbconvert_exporter": "python",
   "pygments_lexer": "ipython3",
   "version": "3.9.13"
  }
 },
 "nbformat": 4,
 "nbformat_minor": 5
}
